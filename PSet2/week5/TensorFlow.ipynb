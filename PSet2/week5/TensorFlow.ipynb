{
 "cells": [
  {
   "cell_type": "markdown",
   "metadata": {
    "id": "7UkMNhsxXOLW",
    "tags": [
     "pdf-title"
    ]
   },
   "source": [
    "# What's this TensorFlow business?\n",
    "\n",
    "You've written a lot of code in this assignment to provide a whole host of neural network functionality. Dropout, Batch Norm, and 2D convolutions are some of the workhorses of deep learning in computer vision. You've also worked hard to make your code efficient and vectorized.\n",
    "\n",
    "For the last part of this assignment, though, we're going to leave behind your beautiful codebase and instead migrate to one of two popular deep learning frameworks: in this instance, TensorFlow (or PyTorch, if you choose to work with that notebook)."
   ]
  },
  {
   "cell_type": "markdown",
   "metadata": {
    "id": "Lt9QFYAmXOLg",
    "tags": [
     "pdf-ignore"
    ]
   },
   "source": [
    "#### What is it?\n",
    "TensorFlow is a system for executing computational graphs over Tensor objects, with native support for performing backpropogation for its Variables. In it, we work with Tensors which are n-dimensional arrays analogous to the numpy ndarray.\n",
    "\n",
    "#### Why?\n",
    "\n",
    "* Our code will now run on GPUs! Much faster training. Writing your own modules to run on GPUs is beyond the scope of this class, unfortunately.\n",
    "* We want you to be ready to use one of these frameworks for your project so you can experiment more efficiently than if you were writing every feature you want to use by hand. \n",
    "* We want you to stand on the shoulders of giants! TensorFlow and PyTorch are both excellent frameworks that will make your lives a lot easier, and now that you understand their guts, you are free to use them :) \n",
    "* We want you to be exposed to the sort of deep learning code you might run into in academia or industry. "
   ]
  },
  {
   "cell_type": "markdown",
   "metadata": {
    "id": "niYaG78VXOLg"
   },
   "source": [
    "**Acknowledgement: This exercise is adapted from [Stanford CS231n](http://cs231n.stanford.edu/index.html).**"
   ]
  },
  {
   "cell_type": "markdown",
   "metadata": {
    "id": "54QGCV2FXOLi",
    "tags": [
     "pdf-ignore"
    ]
   },
   "source": [
    "## How will I learn TensorFlow?\n",
    "\n",
    "TensorFlow has many excellent tutorials available, including those from [Google themselves](https://www.tensorflow.org/get_started/get_started).\n",
    "\n",
    "Otherwise, this notebook will walk you through much of what you need to do to train models in TensorFlow. See the end of the notebook for some links to helpful tutorials if you want to learn more or need further clarification on topics that aren't fully explained here.\n",
    "\n",
    "**NOTE: This notebook is meant to teach you the latest version of Tensorflow 2.0. Most examples on the web today are still in 1.x, so be careful not to confuse the two when looking up documentation**.\n",
    "\n",
    "## Install Tensorflow 2.0\n",
    "Tensorflow 2.0 is still not in a fully 100% stable release, but it's still usable and more intuitive than TF 1.x. Please make sure you have it installed before moving on in this notebook! Here are some steps to get started:\n",
    "\n",
    "1. Have the latest version of Anaconda installed on your machine.\n",
    "2. Create a new conda environment starting from Python 3.7. In this setup example, we'll call it `tf_20_env`.\n",
    "3. Run the command: `source activate tf_20_env`\n",
    "4. Then pip install TF 2.0 as described here: https://www.tensorflow.org/install/pip \n",
    "\n",
    "A guide on creating Anaconda enviornments: https://uoa-eresearch.github.io/eresearch-cookbook/recipe/2014/11/20/conda/\n",
    "\n",
    "This will give you an new enviornemnt to play in TF 2.0. Generally, if you plan to also use TensorFlow in your other projects, you might also want to keep a seperate Conda environment or virtualenv in Python 3.7 that has Tensorflow 1.9, so you can switch back and forth at will. "
   ]
  },
  {
   "cell_type": "markdown",
   "metadata": {
    "id": "cdTJilddXOLi"
   },
   "source": [
    "**Acknowledgement: This exercise is adapted from [Stanford CS231n](http://cs231n.stanford.edu/index.html).**"
   ]
  },
  {
   "cell_type": "markdown",
   "metadata": {
    "id": "RJqU38dlXOLj"
   },
   "source": [
    "## How will I learn TensorFlow?\n",
    "\n",
    "TensorFlow has many excellent tutorials available, including those from [Google themselves](https://www.tensorflow.org/get_started/get_started).\n",
    "\n",
    "Otherwise, this notebook will walk you through much of what you need to do to train models in TensorFlow. See the end of the notebook for some links to helpful tutorials if you want to learn more or need further clarification on topics that aren't fully explained here.\n",
    "\n",
    "# Part I: Preparation"
   ]
  },
  {
   "cell_type": "code",
   "execution_count": 1,
   "metadata": {
    "colab": {
     "base_uri": "https://localhost:8080/"
    },
    "id": "9PET45RZXOLk",
    "outputId": "7c644426-a220-4877-f906-b826c5648925",
    "tags": [
     "pdf-ignore"
    ]
   },
   "outputs": [
    {
     "name": "stdout",
     "output_type": "stream",
     "text": [
      "tf version: 2.4.1\n"
     ]
    }
   ],
   "source": [
    "import os\n",
    "import tensorflow as tf\n",
    "import numpy as np\n",
    "import math\n",
    "import timeit\n",
    "\n",
    "%matplotlib inline\n",
    "import matplotlib\n",
    "import matplotlib.pyplot as plt\n",
    "from sklearn.metrics import classification_report\n",
    "from sklearn.preprocessing import LabelBinarizer\n",
    "\n",
    "print(\"tf version: \" + tf.__version__)"
   ]
  },
  {
   "cell_type": "code",
   "execution_count": 2,
   "metadata": {
    "colab": {
     "base_uri": "https://localhost:8080/"
    },
    "id": "dtuCNZ2UXOLr",
    "outputId": "4a79223b-662b-4587-fd45-803e30ac288e",
    "tags": [
     "pdf-ignore"
    ]
   },
   "outputs": [
    {
     "name": "stdout",
     "output_type": "stream",
     "text": [
      "Downloading data from https://www.cs.toronto.edu/~kriz/cifar-10-python.tar.gz\n",
      "170500096/170498071 [==============================] - 11s 0us/step\n",
      "Train data shape:  (49000, 32, 32, 3)\n",
      "Train labels shape:  (49000,) int32\n",
      "Validation data shape:  (1000, 32, 32, 3)\n",
      "Validation labels shape:  (1000,)\n",
      "Test data shape:  (10000, 32, 32, 3)\n",
      "Test labels shape:  (10000,)\n"
     ]
    }
   ],
   "source": [
    "def load_cifar10(num_training=49000, num_validation=1000, num_test=10000):\n",
    "    \"\"\"\n",
    "    Fetch the CIFAR-10 dataset from the web and perform preprocessing to prepare\n",
    "    it for the two-layer neural net classifier. These are the same steps as\n",
    "    we used for the SVM, but condensed to a single function.\n",
    "    \"\"\"\n",
    "    # Load the raw CIFAR-10 dataset and use appropriate data types and shapes\n",
    "    cifar10 = tf.keras.datasets.cifar10.load_data()\n",
    "    (X_train, y_train), (X_test, y_test) = cifar10\n",
    "    X_train = np.asarray(X_train, dtype=np.float32)\n",
    "    y_train = np.asarray(y_train, dtype=np.int32).flatten()\n",
    "    X_test = np.asarray(X_test, dtype=np.float32)\n",
    "    y_test = np.asarray(y_test, dtype=np.int32).flatten()\n",
    "\n",
    "    # Subsample the data\n",
    "    mask = range(num_training, num_training + num_validation)\n",
    "    X_val = X_train[mask]\n",
    "    y_val = y_train[mask]\n",
    "    mask = range(num_training)\n",
    "    X_train = X_train[mask]\n",
    "    y_train = y_train[mask]\n",
    "    mask = range(num_test)\n",
    "    X_test = X_test[mask]\n",
    "    y_test = y_test[mask]\n",
    "\n",
    "    # Normalize the data: subtract the mean pixel and divide by std\n",
    "    mean_pixel = X_train.mean(axis=(0, 1, 2), keepdims=True)\n",
    "    std_pixel = X_train.std(axis=(0, 1, 2), keepdims=True)\n",
    "    X_train = (X_train - mean_pixel) / std_pixel\n",
    "    X_val = (X_val - mean_pixel) / std_pixel\n",
    "    X_test = (X_test - mean_pixel) / std_pixel\n",
    "\n",
    "    return X_train, y_train, X_val, y_val, X_test, y_test\n",
    "\n",
    "# If there are errors with SSL downloading involving self-signed certificates,\n",
    "# it may be that your Python version was recently installed on the current machine.\n",
    "# See: https://github.com/tensorflow/tensorflow/issues/10779\n",
    "# To fix, run the command: /Applications/Python\\ 3.7/Install\\ Certificates.command\n",
    "#   ...replacing paths as necessary.\n",
    "\n",
    "# Invoke the above function to get our data.\n",
    "NHW = (0, 1, 2)\n",
    "X_train, y_train, X_val, y_val, X_test, y_test = load_cifar10()\n",
    "print('Train data shape: ', X_train.shape)\n",
    "print('Train labels shape: ', y_train.shape, y_train.dtype)\n",
    "print('Validation data shape: ', X_val.shape)\n",
    "print('Validation labels shape: ', y_val.shape)\n",
    "print('Test data shape: ', X_test.shape)\n",
    "print('Test labels shape: ', y_test.shape)"
   ]
  },
  {
   "cell_type": "code",
   "execution_count": 3,
   "metadata": {
    "id": "05neKtmrXOLs",
    "tags": [
     "pdf-ignore"
    ]
   },
   "outputs": [],
   "source": [
    "class Dataset(object):\n",
    "    def __init__(self, X, y, batch_size, shuffle=False):\n",
    "        \"\"\"\n",
    "        Construct a Dataset object to iterate over data X and labels y\n",
    "        \n",
    "        Inputs:\n",
    "        - X: Numpy array of data, of any shape\n",
    "        - y: Numpy array of labels, of any shape but with y.shape[0] == X.shape[0]\n",
    "        - batch_size: Integer giving number of elements per minibatch\n",
    "        - shuffle: (optional) Boolean, whether to shuffle the data on each epoch\n",
    "        \"\"\"\n",
    "        assert X.shape[0] == y.shape[0], 'Got different numbers of data and labels'\n",
    "        self.X, self.y = X, y\n",
    "        self.batch_size, self.shuffle = batch_size, shuffle\n",
    "\n",
    "    def __iter__(self):\n",
    "        N, B = self.X.shape[0], self.batch_size\n",
    "        idxs = np.arange(N)\n",
    "        if self.shuffle:\n",
    "            np.random.shuffle(idxs)\n",
    "        return iter((self.X[i:i+B], self.y[i:i+B]) for i in range(0, N, B))\n",
    "\n",
    "\n",
    "train_dset = Dataset(X_train, y_train, batch_size=64, shuffle=True)\n",
    "val_dset = Dataset(X_val, y_val, batch_size=64, shuffle=False)\n",
    "test_dset = Dataset(X_test, y_test, batch_size=64)"
   ]
  },
  {
   "cell_type": "code",
   "execution_count": 4,
   "metadata": {
    "colab": {
     "base_uri": "https://localhost:8080/"
    },
    "id": "kMtjhcvYXOLt",
    "outputId": "de22ae56-541e-4ee0-9660-7eb603035434"
   },
   "outputs": [
    {
     "name": "stdout",
     "output_type": "stream",
     "text": [
      "0 (64, 32, 32, 3) (64,)\n",
      "1 (64, 32, 32, 3) (64,)\n",
      "2 (64, 32, 32, 3) (64,)\n",
      "3 (64, 32, 32, 3) (64,)\n",
      "4 (64, 32, 32, 3) (64,)\n",
      "5 (64, 32, 32, 3) (64,)\n",
      "6 (64, 32, 32, 3) (64,)\n"
     ]
    }
   ],
   "source": [
    "# We can iterate through a dataset like this:\n",
    "for t, (x, y) in enumerate(train_dset):\n",
    "    print(t, x.shape, y.shape)\n",
    "    if t > 5: break"
   ]
  },
  {
   "cell_type": "markdown",
   "metadata": {
    "id": "gRmuVtqcXOLt"
   },
   "source": [
    "You can optionally **use GPU by setting the flag to True below**. It's not neccessary to use a GPU for this assignment; if you are working on Google Cloud then we recommend that you do not use a GPU, as it will be significantly more expensive."
   ]
  },
  {
   "cell_type": "code",
   "execution_count": 5,
   "metadata": {
    "colab": {
     "base_uri": "https://localhost:8080/"
    },
    "id": "qQCpBVe3XOLt",
    "outputId": "8148c2b5-2f84-44d2-da19-31eb2efeb5a1",
    "tags": [
     "pdf-ignore-input"
    ]
   },
   "outputs": [
    {
     "name": "stdout",
     "output_type": "stream",
     "text": [
      "Using device:  /cpu:0\n"
     ]
    }
   ],
   "source": [
    "# Set up some global variables\n",
    "USE_GPU = False\n",
    "\n",
    "if USE_GPU:\n",
    "    device = '/device:GPU:0'\n",
    "else:\n",
    "    device = '/cpu:0'\n",
    "\n",
    "# Constant to control how often we print when training models\n",
    "print_every = 100\n",
    "\n",
    "print('Using device: ', device)"
   ]
  },
  {
   "cell_type": "markdown",
   "metadata": {
    "id": "-i-71alZXOLv",
    "tags": [
     "pdf-ignore"
    ]
   },
   "source": [
    "# Part II: Barebones TensorFlow\n",
    "TensorFlow ships with various high-level APIs which make it very convenient to define and train neural networks; we will cover some of these constructs in Part III and Part IV of this notebook. In this section we will start by building a model with basic TensorFlow constructs to help you better understand what's going on under the hood of the higher-level APIs.\n",
    "\n",
    "**\"Barebones Tensorflow\" is important to understanding the building blocks of TensorFlow, but much of it involves concepts from TensorFlow 1.x.** We will be working with legacy modules such as `tf.Variable`.\n",
    "\n",
    "Therefore, please read and understand the differences between legacy (1.x) TF and the new (2.0) TF.\n",
    "\n",
    "### Historical background on TensorFlow 1.x\n",
    "\n",
    "TensorFlow 1.x is primarily a framework for working with **static computational graphs**. Nodes in the computational graph are Tensors which will hold n-dimensional arrays when the graph is run; edges in the graph represent functions that will operate on Tensors when the graph is run to actually perform useful computation.\n",
    "\n",
    "Before Tensorflow 2.0, we had to configure the graph into two phases. There are plenty of tutorials online that explain this two-step process. The process generally looks like the following for TF 1.x:\n",
    "1. **Build a computational graph that describes the computation that you want to perform**. This stage doesn't actually perform any computation; it just builds up a symbolic representation of your computation. This stage will typically define one or more `placeholder` objects that represent inputs to the computational graph.\n",
    "2. **Run the computational graph many times.** Each time the graph is run (e.g. for one gradient descent step) you will specify which parts of the graph you want to compute, and pass a `feed_dict` dictionary that will give concrete values to any `placeholder`s in the graph.\n",
    "\n",
    "### The new paradigm in Tensorflow 2.0\n",
    "Now, with Tensorflow 2.0, we can simply adopt a functional form that is more Pythonic and similar in spirit to PyTorch and direct Numpy operation. Instead of the 2-step paradigm with computation graphs, making it (among other things) easier to debug TF code. You can read more details at https://www.tensorflow.org/guide/eager.\n",
    "\n",
    "The main difference between the TF 1.x and 2.0 approach is that the 2.0 approach doesn't make use of `tf.Session`, `tf.run`, `placeholder`, `feed_dict`. To get more details of what's different between the two version and how to convert between the two, check out the official migration guide: https://www.tensorflow.org/alpha/guide/migration_guide\n",
    "\n",
    "Later, in the rest of this notebook we'll focus on this new, simpler approach."
   ]
  },
  {
   "cell_type": "markdown",
   "metadata": {
    "id": "MLW4s6fEXOLv",
    "tags": [
     "pdf-ignore"
    ]
   },
   "source": [
    "### TensorFlow warmup: Flatten Function\n",
    "\n",
    "We can see this in action by defining a simple `flatten` function that will reshape image data for use in a fully-connected network.\n",
    "\n",
    "In TensorFlow, data for convolutional feature maps is typically stored in a Tensor of shape N x H x W x C where:\n",
    "\n",
    "- N is the number of datapoints (minibatch size)\n",
    "- H is the height of the feature map\n",
    "- W is the width of the feature map\n",
    "- C is the number of channels in the feature map\n",
    "\n",
    "This is the right way to represent the data when we are doing something like a 2D convolution, that needs spatial understanding of where the intermediate features are relative to each other. When we use fully connected affine layers to process the image, however, we want each datapoint to be represented by a single vector -- it's no longer useful to segregate the different channels, rows, and columns of the data. So, we use a \"flatten\" operation to collapse the `H x W x C` values per representation into a single long vector. \n",
    "\n",
    "Notice the `tf.reshape` call has the target shape as `(N, -1)`, meaning it will reshape/keep the first dimension to be N, and then infer as necessary what the second dimension is in the output, so we can collapse the remaining dimensions from the input properly.\n",
    "\n",
    "**NOTE**: TensorFlow and PyTorch differ on the default Tensor layout; TensorFlow uses N x H x W x C but PyTorch uses N x C x H x W."
   ]
  },
  {
   "cell_type": "code",
   "execution_count": 6,
   "metadata": {
    "id": "Ej_zH8LKXOLv",
    "tags": [
     "pdf-ignore"
    ]
   },
   "outputs": [],
   "source": [
    "def flatten(x):\n",
    "    \"\"\"    \n",
    "    Input:\n",
    "    - TensorFlow Tensor of shape (N, D1, ..., DM)\n",
    "    \n",
    "    Output:\n",
    "    - TensorFlow Tensor of shape (N, D1 * ... * DM)\n",
    "    \"\"\"\n",
    "    N = tf.shape(x)[0]\n",
    "    return tf.reshape(x, (N, -1))"
   ]
  },
  {
   "cell_type": "code",
   "execution_count": 7,
   "metadata": {
    "colab": {
     "base_uri": "https://localhost:8080/"
    },
    "id": "emi1gaOpXOLv",
    "outputId": "2c27abcf-86c6-4f6c-f657-37d6cf876939",
    "tags": [
     "pdf-ignore-input"
    ]
   },
   "outputs": [
    {
     "name": "stdout",
     "output_type": "stream",
     "text": [
      "x_np:\n",
      " [[[ 0  1  2  3]\n",
      "  [ 4  5  6  7]\n",
      "  [ 8  9 10 11]]\n",
      "\n",
      " [[12 13 14 15]\n",
      "  [16 17 18 19]\n",
      "  [20 21 22 23]]] \n",
      "\n",
      "x_flat_np:\n",
      " tf.Tensor(\n",
      "[[ 0  1  2  3  4  5  6  7  8  9 10 11]\n",
      " [12 13 14 15 16 17 18 19 20 21 22 23]], shape=(2, 12), dtype=int64) \n",
      "\n"
     ]
    }
   ],
   "source": [
    "def test_flatten():\n",
    "    # Construct concrete values of the input data x using numpy\n",
    "    x_np = np.arange(24).reshape((2, 3, 4))\n",
    "    print('x_np:\\n', x_np, '\\n')\n",
    "    # Compute a concrete output value.\n",
    "    x_flat_np = flatten(x_np)\n",
    "    print('x_flat_np:\\n', x_flat_np, '\\n')\n",
    "\n",
    "test_flatten()"
   ]
  },
  {
   "cell_type": "markdown",
   "metadata": {
    "id": "x4-9YLhFXOLv"
   },
   "source": [
    "### Barebones TensorFlow: Define a Two-Layer Network\n",
    "We will now implement our first neural network with TensorFlow: a fully-connected ReLU network with two hidden layers and no biases on the CIFAR10 dataset. For now we will use only low-level TensorFlow operators to define the network; later we will see how to use the higher-level abstractions provided by `tf.keras` to simplify the process.\n",
    "\n",
    "We will define the forward pass of the network in the function `two_layer_fc`; this will accept TensorFlow Tensors for the inputs and weights of the network, and return a TensorFlow Tensor for the scores. \n",
    "\n",
    "After defining the network architecture in the `two_layer_fc` function, we will test the implementation by checking the shape of the output.\n",
    "\n",
    "**It's important that you read and understand this implementation.**"
   ]
  },
  {
   "cell_type": "code",
   "execution_count": 8,
   "metadata": {
    "id": "VHiBldhZXOLw",
    "tags": [
     "pdf-ignore"
    ]
   },
   "outputs": [],
   "source": [
    "def two_layer_fc(x, params):\n",
    "    \"\"\"\n",
    "    A fully-connected neural network; the architecture is:\n",
    "    fully-connected layer -> ReLU -> fully connected layer.\n",
    "    Note that we only need to define the forward pass here; TensorFlow will take\n",
    "    care of computing the gradients for us.\n",
    "    \n",
    "    The input to the network will be a minibatch of data, of shape\n",
    "    (N, d1, ..., dM) where d1 * ... * dM = D. The hidden layer will have H units,\n",
    "    and the output layer will produce scores for C classes.\n",
    "\n",
    "    Inputs:\n",
    "    - x: A TensorFlow Tensor of shape (N, d1, ..., dM) giving a minibatch of\n",
    "      input data.\n",
    "    - params: A list [w1, w2] of TensorFlow Tensors giving weights for the\n",
    "      network, where w1 has shape (D, H) and w2 has shape (H, C).\n",
    "    \n",
    "    Returns:\n",
    "    - scores: A TensorFlow Tensor of shape (N, C) giving classification scores\n",
    "      for the input data x.\n",
    "    \"\"\"\n",
    "    w1, w2 = params                   # Unpack the parameters\n",
    "    x = flatten(x)                    # Flatten the input; now x has shape (N, D)\n",
    "    h = tf.nn.relu(tf.matmul(x, w1))  # Hidden layer: h has shape (N, H)\n",
    "    scores = tf.matmul(h, w2)         # Compute scores of shape (N, C)\n",
    "    return scores"
   ]
  },
  {
   "cell_type": "code",
   "execution_count": 9,
   "metadata": {
    "colab": {
     "base_uri": "https://localhost:8080/"
    },
    "id": "_ltzl6nAXOLw",
    "outputId": "f116d31a-6744-4b7a-b0fa-2a1e1048957e",
    "tags": [
     "pdf-ignore-input"
    ]
   },
   "outputs": [
    {
     "name": "stdout",
     "output_type": "stream",
     "text": [
      "(64, 10)\n"
     ]
    }
   ],
   "source": [
    "def two_layer_fc_test():\n",
    "    hidden_layer_size = 42\n",
    "\n",
    "    # Scoping our TF operations under a tf.device context manager \n",
    "    # lets us tell TensorFlow where we want these Tensors to be\n",
    "    # multiplied and/or operated on, e.g. on a CPU or a GPU.\n",
    "    with tf.device(device):        \n",
    "        x = tf.zeros((64, 32, 32, 3))\n",
    "        w1 = tf.zeros((32 * 32 * 3, hidden_layer_size))\n",
    "        w2 = tf.zeros((hidden_layer_size, 10))\n",
    "\n",
    "        # Call our two_layer_fc function for the forward pass of the network.\n",
    "        scores = two_layer_fc(x, [w1, w2])\n",
    "\n",
    "    print(scores.shape)\n",
    "\n",
    "two_layer_fc_test()"
   ]
  },
  {
   "cell_type": "markdown",
   "metadata": {
    "id": "GWuT5qLaXOLx"
   },
   "source": [
    "### Barebones TensorFlow: Three-Layer ConvNet\n",
    "Here you will complete the implementation of the function `three_layer_convnet` which will perform the forward pass of a three-layer convolutional network. The network should have the following architecture:\n",
    "\n",
    "1. A convolutional layer (with bias) with `channel_1` filters, each with shape `KW1 x KH1`, and zero-padding of two\n",
    "2. ReLU nonlinearity\n",
    "3. A convolutional layer (with bias) with `channel_2` filters, each with shape `KW2 x KH2`, and zero-padding of one\n",
    "4. ReLU nonlinearity\n",
    "5. Fully-connected layer with bias, producing scores for `C` classes.\n",
    "\n",
    "**HINT**: For convolutions: https://www.tensorflow.org/versions/r2.0/api_docs/python/tf/nn/conv2d; be careful with padding!\n",
    "\n",
    "**HINT**: For biases: https://www.tensorflow.org/performance/xla/broadcasting"
   ]
  },
  {
   "cell_type": "code",
   "execution_count": 10,
   "metadata": {
    "id": "wOR9hpV7XOLx"
   },
   "outputs": [],
   "source": [
    "def three_layer_convnet(x, params):\n",
    "    \"\"\"\n",
    "    A three-layer convolutional network with the architecture described above.\n",
    "    \n",
    "    Inputs:\n",
    "    - x: A TensorFlow Tensor of shape (N, H, W, 3) giving a minibatch of images\n",
    "    - params: A list of TensorFlow Tensors giving the weights and biases for the\n",
    "      network; should contain the following:\n",
    "      - conv_w1: TensorFlow Tensor of shape (KH1, KW1, 3, channel_1) giving\n",
    "        weights for the first convolutional layer.\n",
    "      - conv_b1: TensorFlow Tensor of shape (channel_1,) giving biases for the\n",
    "        first convolutional layer.\n",
    "      - conv_w2: TensorFlow Tensor of shape (KH2, KW2, channel_1, channel_2)\n",
    "        giving weights for the second convolutional layer\n",
    "      - conv_b2: TensorFlow Tensor of shape (channel_2,) giving biases for the\n",
    "        second convolutional layer.\n",
    "      - fc_w: TensorFlow Tensor giving weights for the fully-connected layer.\n",
    "        Can you figure out what the shape should be?\n",
    "      - fc_b: TensorFlow Tensor giving biases for the fully-connected layer.\n",
    "        Can you figure out what the shape should be?\n",
    "    \"\"\"\n",
    "    conv_w1, conv_b1, conv_w2, conv_b2, fc_w, fc_b = params\n",
    "    scores = None\n",
    "    ############################################################################\n",
    "    # TODO: Implement the forward pass for the three-layer ConvNet.            #\n",
    "    ############################################################################\n",
    "    # *****START OF YOUR CODE (DO NOT DELETE/MODIFY THIS LINE)*****\n",
    "    conv_1 = tf.math.add(tf.nn.conv2d(input=x, filters=conv_w1, strides=1, padding=\"SAME\", data_format='NHWC'), conv_b1)\n",
    "    relu_1 = tf.nn.relu(conv_1)\n",
    "    conv_2 = tf.math.add(tf.nn.conv2d(input=relu_1, filters=conv_w2, strides=1, padding=\"SAME\", data_format='NHWC'), conv_b2)\n",
    "    relu_2 = tf.nn.relu(conv_2)\n",
    "    scores = tf.math.add(tf.matmul(flatten(relu_2), fc_w), fc_b)\n",
    "    pass\n",
    "\n",
    "    # *****END OF YOUR CODE (DO NOT DELETE/MODIFY THIS LINE)*****\n",
    "    ############################################################################\n",
    "    #                              END OF YOUR CODE                            #\n",
    "    ############################################################################\n",
    "    return scores"
   ]
  },
  {
   "cell_type": "markdown",
   "metadata": {
    "id": "icQKMREeXOLx"
   },
   "source": [
    "After defing the forward pass of the three-layer ConvNet above, run the following cell to test your implementation. Like the two-layer network, we run the graph on a batch of zeros just to make sure the function doesn't crash, and produces outputs of the correct shape.\n",
    "\n",
    "When you run this function, `scores_np` should have shape `(64, 10)`."
   ]
  },
  {
   "cell_type": "code",
   "execution_count": 11,
   "metadata": {
    "colab": {
     "base_uri": "https://localhost:8080/"
    },
    "id": "czQ-yvXrXOLx",
    "jupyter": {
     "outputs_hidden": true
    },
    "outputId": "c8c4ea2e-1bfd-4994-b12b-327911d47638",
    "tags": [
     "pdf-ignore-input"
    ]
   },
   "outputs": [
    {
     "name": "stdout",
     "output_type": "stream",
     "text": [
      "scores_np has shape:  (64, 10)\n"
     ]
    }
   ],
   "source": [
    "def three_layer_convnet_test():\n",
    "    \n",
    "    with tf.device(device):\n",
    "        x = tf.zeros((64, 32, 32, 3))\n",
    "        conv_w1 = tf.zeros((5, 5, 3, 6))\n",
    "        conv_b1 = tf.zeros((6,))\n",
    "        conv_w2 = tf.zeros((3, 3, 6, 9))\n",
    "        conv_b2 = tf.zeros((9,))\n",
    "        fc_w = tf.zeros((32 * 32 * 9, 10))\n",
    "        fc_b = tf.zeros((10,))\n",
    "        params = [conv_w1, conv_b1, conv_w2, conv_b2, fc_w, fc_b]\n",
    "        scores = three_layer_convnet(x, params)\n",
    "\n",
    "    # Inputs to convolutional layers are 4-dimensional arrays with shape\n",
    "    # [batch_size, height, width, channels]\n",
    "    print('scores_np has shape: ', scores.shape)\n",
    "\n",
    "three_layer_convnet_test()"
   ]
  },
  {
   "cell_type": "markdown",
   "metadata": {
    "id": "HgZcFvLPXOLy"
   },
   "source": [
    "### Barebones TensorFlow: Training Step\n",
    "\n",
    "We now define the `training_step` function performs a single training step. This will take three basic steps:\n",
    "\n",
    "1. Compute the loss\n",
    "2. Compute the gradient of the loss with respect to all network weights\n",
    "3. Make a weight update step using (stochastic) gradient descent.\n",
    "\n",
    "\n",
    "We need to use a few new TensorFlow functions to do all of this:\n",
    "- For computing the cross-entropy loss we'll use `tf.nn.sparse_softmax_cross_entropy_with_logits`: https://www.tensorflow.org/versions/r2.0/api_docs/python/tf/nn/sparse_softmax_cross_entropy_with_logits\n",
    "\n",
    "- For averaging the loss across a minibatch of data we'll use `tf.reduce_mean`:\n",
    "https://www.tensorflow.org/versions/r2.0/api_docs/python/tf/reduce_mean\n",
    "\n",
    "- For computing gradients of the loss with respect to the weights we'll use `tf.GradientTape` (useful for Eager execution):  https://www.tensorflow.org/versions/r2.0/api_docs/python/tf/GradientTape\n",
    "\n",
    "- We'll mutate the weight values stored in a TensorFlow Tensor using `tf.assign_sub` (\"sub\" is for subtraction): https://www.tensorflow.org/api_docs/python/tf/assign_sub \n"
   ]
  },
  {
   "cell_type": "code",
   "execution_count": 12,
   "metadata": {
    "id": "JtDQNOK2XOLy",
    "tags": [
     "pdf-ignore"
    ]
   },
   "outputs": [],
   "source": [
    "def training_step(model_fn, x, y, params, learning_rate):\n",
    "    with tf.GradientTape() as tape:\n",
    "        scores = model_fn(x, params) # Forward pass of the model\n",
    "        loss = tf.nn.sparse_softmax_cross_entropy_with_logits(labels=y, logits=scores)\n",
    "        total_loss = tf.reduce_mean(loss)\n",
    "        grad_params = tape.gradient(total_loss, params)\n",
    "\n",
    "        # Make a vanilla gradient descent step on all of the model parameters\n",
    "        # Manually update the weights using assign_sub()\n",
    "        for w, grad_w in zip(params, grad_params):\n",
    "            w.assign_sub(learning_rate * grad_w)\n",
    "                        \n",
    "        return total_loss"
   ]
  },
  {
   "cell_type": "code",
   "execution_count": 13,
   "metadata": {
    "id": "g0lMVNtLXOLy",
    "tags": [
     "pdf-ignore"
    ]
   },
   "outputs": [],
   "source": [
    "def train_part2(model_fn, init_fn, learning_rate, epochs):\n",
    "    \"\"\"\n",
    "    Train a model on CIFAR-10.\n",
    "    \n",
    "    Inputs:\n",
    "    - model_fn: A Python function that performs the forward pass of the model\n",
    "      using TensorFlow; it should have the following signature:\n",
    "      scores = model_fn(x, params) where x is a TensorFlow Tensor giving a\n",
    "      minibatch of image data, params is a list of TensorFlow Tensors holding\n",
    "      the model weights, and scores is a TensorFlow Tensor of shape (N, C)\n",
    "      giving scores for all elements of x.\n",
    "    - init_fn: A Python function that initializes the parameters of the model.\n",
    "      It should have the signature params = init_fn() where params is a list\n",
    "      of TensorFlow Tensors holding the (randomly initialized) weights of the\n",
    "      model.\n",
    "    - learning_rate: Python float giving the learning rate to use for SGD.\n",
    "    \"\"\"\n",
    "    \n",
    "    \n",
    "    params = init_fn()  # Initialize the model parameters            \n",
    "    for e in range(epochs):    \n",
    "        for t, (x_np, y_np) in enumerate(train_dset):\n",
    "            # Run the graph on a batch of training data.\n",
    "            loss = training_step(model_fn, x_np, y_np, params, learning_rate)\n",
    "\n",
    "            # Periodically print the loss and check accuracy on the val set.\n",
    "            if t % print_every == 0:\n",
    "                print('Epoch %d, iteration %d, loss = %.4f' % (e, t, loss))\n",
    "                print('Validation:')\n",
    "                check_accuracy(val_dset, model_fn, params)\n",
    "    return params\n",
    "                "
   ]
  },
  {
   "cell_type": "code",
   "execution_count": 14,
   "metadata": {
    "id": "ZJBCGXCjXOLz",
    "tags": [
     "pdf-ignore"
    ]
   },
   "outputs": [],
   "source": [
    "def check_accuracy(dset, model_fn, params):\n",
    "    \"\"\"\n",
    "    Check accuracy on a classification model, e.g. for validation.\n",
    "    \n",
    "    Inputs:\n",
    "    - dset: A Dataset object against which to check accuracy\n",
    "    - x: A TensorFlow placeholder Tensor where input images should be fed\n",
    "    - model_fn: the Model we will be calling to make predictions on x\n",
    "    - params: parameters for the model_fn to work with\n",
    "      \n",
    "    Returns: Nothing, but prints the accuracy of the model\n",
    "    \"\"\"\n",
    "    num_correct, num_samples = 0, 0\n",
    "    for x_batch, y_batch in dset:\n",
    "        scores_np = model_fn(x_batch, params).numpy()\n",
    "        y_pred = scores_np.argmax(axis=1)\n",
    "        num_samples += x_batch.shape[0]\n",
    "        num_correct += (y_pred == y_batch).sum()\n",
    "    acc = float(num_correct) / num_samples\n",
    "    print('     Got %d / %d correct (%.2f%%)' % (num_correct, num_samples, 100 * acc))"
   ]
  },
  {
   "cell_type": "markdown",
   "metadata": {
    "id": "88wSWCtFXOL0"
   },
   "source": [
    "### Barebones TensorFlow: Initialization\n",
    "We'll use the following utility method to initialize the weight matrices for our models using Kaiming's normalization method.\n",
    "\n",
    "[1] He et al, *Delving Deep into Rectifiers: Surpassing Human-Level Performance on ImageNet Classification\n",
    "*, ICCV 2015, https://arxiv.org/abs/1502.01852"
   ]
  },
  {
   "cell_type": "code",
   "execution_count": 15,
   "metadata": {
    "id": "MTC5rtxOXOL0"
   },
   "outputs": [],
   "source": [
    "def create_matrix_with_kaiming_normal(shape):\n",
    "    if len(shape) == 2:\n",
    "        fan_in, fan_out = shape[0], shape[1]\n",
    "    elif len(shape) == 4:\n",
    "        fan_in, fan_out = np.prod(shape[:3]), shape[3]\n",
    "    return tf.keras.backend.random_normal(shape) * np.sqrt(2.0 / fan_in)"
   ]
  },
  {
   "cell_type": "markdown",
   "metadata": {
    "id": "BVNDYor5XOL0"
   },
   "source": [
    "### Barebones TensorFlow: Train a Two-Layer Network\n",
    "We are finally ready to use all of the pieces defined above to train a two-layer fully-connected network on CIFAR-10.\n",
    "\n",
    "We just need to define a function to initialize the weights of the model, and call `train_part2`.\n",
    "\n",
    "Defining the weights of the network introduces another important piece of TensorFlow API: `tf.Variable`. A TensorFlow Variable is a Tensor whose value is stored in the graph and persists across runs of the computational graph; however unlike constants defined with `tf.zeros` or `tf.random_normal`, the values of a Variable can be mutated as the graph runs; these mutations will persist across graph runs. Learnable parameters of the network are usually stored in Variables.\n",
    "\n",
    "You don't need to tune any hyperparameters, but you should achieve validation accuracies above 40% after one epoch of training."
   ]
  },
  {
   "cell_type": "code",
   "execution_count": 16,
   "metadata": {
    "colab": {
     "base_uri": "https://localhost:8080/"
    },
    "id": "FvzOWQFoXOL0",
    "jupyter": {
     "outputs_hidden": true
    },
    "outputId": "e037f4be-32fd-4fe2-982a-bee73cbbeedf"
   },
   "outputs": [
    {
     "name": "stdout",
     "output_type": "stream",
     "text": [
      "Train\n",
      "Epoch 0, iteration 0, loss = 3.3001\n",
      "Validation:\n",
      "     Got 133 / 1000 correct (13.30%)\n",
      "Epoch 0, iteration 100, loss = 2.0108\n",
      "Validation:\n",
      "     Got 377 / 1000 correct (37.70%)\n",
      "Epoch 0, iteration 200, loss = 1.4580\n",
      "Validation:\n",
      "     Got 385 / 1000 correct (38.50%)\n",
      "Epoch 0, iteration 300, loss = 1.9008\n",
      "Validation:\n",
      "     Got 369 / 1000 correct (36.90%)\n",
      "Epoch 0, iteration 400, loss = 1.8314\n",
      "Validation:\n",
      "     Got 432 / 1000 correct (43.20%)\n",
      "Epoch 0, iteration 500, loss = 1.7151\n",
      "Validation:\n",
      "     Got 430 / 1000 correct (43.00%)\n",
      "Epoch 0, iteration 600, loss = 1.7904\n",
      "Validation:\n",
      "     Got 428 / 1000 correct (42.80%)\n",
      "Epoch 0, iteration 700, loss = 1.9872\n",
      "Validation:\n",
      "     Got 423 / 1000 correct (42.30%)\n",
      "Epoch 1, iteration 0, loss = 1.4199\n",
      "Validation:\n",
      "     Got 454 / 1000 correct (45.40%)\n",
      "Epoch 1, iteration 100, loss = 1.5659\n",
      "Validation:\n",
      "     Got 492 / 1000 correct (49.20%)\n",
      "Epoch 1, iteration 200, loss = 1.1720\n",
      "Validation:\n",
      "     Got 466 / 1000 correct (46.60%)\n",
      "Epoch 1, iteration 300, loss = 1.5064\n",
      "Validation:\n",
      "     Got 443 / 1000 correct (44.30%)\n",
      "Epoch 1, iteration 400, loss = 1.5010\n",
      "Validation:\n",
      "     Got 457 / 1000 correct (45.70%)\n",
      "Epoch 1, iteration 500, loss = 1.5202\n",
      "Validation:\n",
      "     Got 473 / 1000 correct (47.30%)\n",
      "Epoch 1, iteration 600, loss = 1.5812\n",
      "Validation:\n",
      "     Got 455 / 1000 correct (45.50%)\n",
      "Epoch 1, iteration 700, loss = 1.7057\n",
      "Validation:\n",
      "     Got 476 / 1000 correct (47.60%)\n",
      "Epoch 2, iteration 0, loss = 1.2415\n",
      "Validation:\n",
      "     Got 469 / 1000 correct (46.90%)\n",
      "Epoch 2, iteration 100, loss = 1.4431\n",
      "Validation:\n",
      "     Got 502 / 1000 correct (50.20%)\n",
      "Epoch 2, iteration 200, loss = 1.0549\n",
      "Validation:\n",
      "     Got 490 / 1000 correct (49.00%)\n",
      "Epoch 2, iteration 300, loss = 1.3563\n",
      "Validation:\n",
      "     Got 455 / 1000 correct (45.50%)\n",
      "Epoch 2, iteration 400, loss = 1.3449\n",
      "Validation:\n",
      "     Got 481 / 1000 correct (48.10%)\n",
      "Epoch 2, iteration 500, loss = 1.4068\n",
      "Validation:\n",
      "     Got 491 / 1000 correct (49.10%)\n",
      "Epoch 2, iteration 600, loss = 1.4482\n",
      "Validation:\n",
      "     Got 477 / 1000 correct (47.70%)\n",
      "Epoch 2, iteration 700, loss = 1.5503\n",
      "Validation:\n",
      "     Got 502 / 1000 correct (50.20%)\n",
      "Epoch 3, iteration 0, loss = 1.1363\n",
      "Validation:\n",
      "     Got 488 / 1000 correct (48.80%)\n",
      "Epoch 3, iteration 100, loss = 1.3524\n",
      "Validation:\n",
      "     Got 518 / 1000 correct (51.80%)\n",
      "Epoch 3, iteration 200, loss = 0.9692\n",
      "Validation:\n",
      "     Got 510 / 1000 correct (51.00%)\n",
      "Epoch 3, iteration 300, loss = 1.2499\n",
      "Validation:\n",
      "     Got 469 / 1000 correct (46.90%)\n",
      "Epoch 3, iteration 400, loss = 1.2200\n",
      "Validation:\n",
      "     Got 492 / 1000 correct (49.20%)\n",
      "Epoch 3, iteration 500, loss = 1.3187\n",
      "Validation:\n",
      "     Got 501 / 1000 correct (50.10%)\n",
      "Epoch 3, iteration 600, loss = 1.3409\n",
      "Validation:\n",
      "     Got 490 / 1000 correct (49.00%)\n",
      "Epoch 3, iteration 700, loss = 1.4295\n",
      "Validation:\n",
      "     Got 504 / 1000 correct (50.40%)\n",
      "Epoch 4, iteration 0, loss = 1.0428\n",
      "Validation:\n",
      "     Got 497 / 1000 correct (49.70%)\n",
      "Epoch 4, iteration 100, loss = 1.2675\n",
      "Validation:\n",
      "     Got 527 / 1000 correct (52.70%)\n",
      "Epoch 4, iteration 200, loss = 0.8960\n",
      "Validation:\n",
      "     Got 518 / 1000 correct (51.80%)\n",
      "Epoch 4, iteration 300, loss = 1.1681\n",
      "Validation:\n",
      "     Got 479 / 1000 correct (47.90%)\n",
      "Epoch 4, iteration 400, loss = 1.1177\n",
      "Validation:\n",
      "     Got 503 / 1000 correct (50.30%)\n",
      "Epoch 4, iteration 500, loss = 1.2462\n",
      "Validation:\n",
      "     Got 512 / 1000 correct (51.20%)\n",
      "Epoch 4, iteration 600, loss = 1.2465\n",
      "Validation:\n",
      "     Got 490 / 1000 correct (49.00%)\n",
      "Epoch 4, iteration 700, loss = 1.3303\n",
      "Validation:\n",
      "     Got 508 / 1000 correct (50.80%)\n",
      "Done!\n"
     ]
    }
   ],
   "source": [
    "def two_layer_fc_init():\n",
    "    \"\"\"\n",
    "    Initialize the weights of a two-layer network, for use with the\n",
    "    two_layer_network function defined above. \n",
    "    You can use the `create_matrix_with_kaiming_normal` helper!\n",
    "    \n",
    "    Inputs: None\n",
    "    \n",
    "    Returns: A list of:\n",
    "    - w1: TensorFlow tf.Variable giving the weights for the first layer\n",
    "    - w2: TensorFlow tf.Variable giving the weights for the second layer\n",
    "    \"\"\"\n",
    "    hidden_layer_size = 4000\n",
    "    w1 = tf.Variable(create_matrix_with_kaiming_normal((3 * 32 * 32, 4000)))\n",
    "    w2 = tf.Variable(create_matrix_with_kaiming_normal((4000, 10)))\n",
    "    return [w1, w2]\n",
    "\n",
    "learning_rate = 1e-2\n",
    "print('Train')\n",
    "trained_params = train_part2(two_layer_fc, two_layer_fc_init, learning_rate,5)\n",
    "print('Done!')"
   ]
  },
  {
   "cell_type": "markdown",
   "metadata": {
    "id": "VQqehUHsXOL0"
   },
   "source": [
    "### Test Set - DO THIS ONLY ONCE\n",
    "Now that we've gotten a result that we're happy with, we test our final model on the test set. This would be the score we would achieve on a competition. Think about how this compares to your validation set accuracy."
   ]
  },
  {
   "cell_type": "code",
   "execution_count": 17,
   "metadata": {
    "colab": {
     "base_uri": "https://localhost:8080/"
    },
    "id": "ZTXAbMg4XOL1",
    "outputId": "77acf1f5-ec9b-4b06-def5-4970f4c630d7"
   },
   "outputs": [
    {
     "name": "stdout",
     "output_type": "stream",
     "text": [
      "Test\n",
      "     Got 5085 / 10000 correct (50.85%)\n"
     ]
    }
   ],
   "source": [
    "print('Test')\n",
    "check_accuracy(test_dset, two_layer_fc, trained_params)"
   ]
  },
  {
   "cell_type": "markdown",
   "metadata": {
    "id": "Rqxz2IEXXOL1"
   },
   "source": [
    "### Barebones TensorFlow: Train a three-layer ConvNet\n",
    "We will now use TensorFlow to train a three-layer ConvNet on CIFAR-10.\n",
    "\n",
    "You need to implement the `three_layer_convnet_init` function. Recall that the architecture of the network is:\n",
    "\n",
    "1. Convolutional layer (with bias) with 32 5x5 filters, with zero-padding 2\n",
    "2. ReLU\n",
    "3. Convolutional layer (with bias) with 16 3x3 filters, with zero-padding 1\n",
    "4. ReLU\n",
    "5. Fully-connected layer (with bias) to compute scores for 10 classes\n",
    "\n",
    "You don't need to do any hyperparameter tuning, but you should see validation accuracies above 43% after one epoch of training."
   ]
  },
  {
   "cell_type": "code",
   "execution_count": 18,
   "metadata": {
    "colab": {
     "base_uri": "https://localhost:8080/"
    },
    "id": "xDg7kxKhXOL1",
    "outputId": "cc2a191c-0375-4df1-afbe-387398c20291"
   },
   "outputs": [
    {
     "name": "stdout",
     "output_type": "stream",
     "text": [
      "Epoch 0, iteration 0, loss = 2.8193\n",
      "Validation:\n",
      "     Got 118 / 1000 correct (11.80%)\n",
      "Epoch 0, iteration 100, loss = 1.8648\n",
      "Validation:\n",
      "     Got 350 / 1000 correct (35.00%)\n",
      "Epoch 0, iteration 200, loss = 1.6166\n",
      "Validation:\n",
      "     Got 401 / 1000 correct (40.10%)\n",
      "Epoch 0, iteration 300, loss = 1.7417\n",
      "Validation:\n",
      "     Got 395 / 1000 correct (39.50%)\n",
      "Epoch 0, iteration 400, loss = 1.7169\n",
      "Validation:\n",
      "     Got 424 / 1000 correct (42.40%)\n",
      "Epoch 0, iteration 500, loss = 1.6845\n",
      "Validation:\n",
      "     Got 446 / 1000 correct (44.60%)\n",
      "Epoch 0, iteration 600, loss = 1.7340\n",
      "Validation:\n",
      "     Got 453 / 1000 correct (45.30%)\n",
      "Epoch 0, iteration 700, loss = 1.6878\n",
      "Validation:\n",
      "     Got 460 / 1000 correct (46.00%)\n",
      "Epoch 1, iteration 0, loss = 1.3565\n",
      "Validation:\n",
      "     Got 460 / 1000 correct (46.00%)\n",
      "Epoch 1, iteration 100, loss = 1.4493\n",
      "Validation:\n",
      "     Got 474 / 1000 correct (47.40%)\n",
      "Epoch 1, iteration 200, loss = 1.2626\n",
      "Validation:\n",
      "     Got 478 / 1000 correct (47.80%)\n",
      "Epoch 1, iteration 300, loss = 1.4754\n",
      "Validation:\n",
      "     Got 479 / 1000 correct (47.90%)\n",
      "Epoch 1, iteration 400, loss = 1.3508\n",
      "Validation:\n",
      "     Got 495 / 1000 correct (49.50%)\n",
      "Epoch 1, iteration 500, loss = 1.5362\n",
      "Validation:\n",
      "     Got 483 / 1000 correct (48.30%)\n",
      "Epoch 1, iteration 600, loss = 1.5422\n",
      "Validation:\n",
      "     Got 501 / 1000 correct (50.10%)\n",
      "Epoch 1, iteration 700, loss = 1.5485\n",
      "Validation:\n",
      "     Got 497 / 1000 correct (49.70%)\n",
      "Epoch 2, iteration 0, loss = 1.2397\n",
      "Validation:\n",
      "     Got 511 / 1000 correct (51.10%)\n",
      "Epoch 2, iteration 100, loss = 1.3414\n",
      "Validation:\n",
      "     Got 521 / 1000 correct (52.10%)\n",
      "Epoch 2, iteration 200, loss = 1.1009\n",
      "Validation:\n",
      "     Got 515 / 1000 correct (51.50%)\n",
      "Epoch 2, iteration 300, loss = 1.3496\n",
      "Validation:\n",
      "     Got 508 / 1000 correct (50.80%)\n",
      "Epoch 2, iteration 400, loss = 1.2283\n",
      "Validation:\n",
      "     Got 518 / 1000 correct (51.80%)\n",
      "Epoch 2, iteration 500, loss = 1.4504\n",
      "Validation:\n",
      "     Got 525 / 1000 correct (52.50%)\n",
      "Epoch 2, iteration 600, loss = 1.4389\n",
      "Validation:\n",
      "     Got 531 / 1000 correct (53.10%)\n",
      "Epoch 2, iteration 700, loss = 1.4431\n",
      "Validation:\n",
      "     Got 541 / 1000 correct (54.10%)\n",
      "Epoch 3, iteration 0, loss = 1.1715\n",
      "Validation:\n",
      "     Got 539 / 1000 correct (53.90%)\n",
      "Epoch 3, iteration 100, loss = 1.2208\n",
      "Validation:\n",
      "     Got 547 / 1000 correct (54.70%)\n",
      "Epoch 3, iteration 200, loss = 1.0076\n",
      "Validation:\n",
      "     Got 546 / 1000 correct (54.60%)\n",
      "Epoch 3, iteration 300, loss = 1.2679\n",
      "Validation:\n",
      "     Got 529 / 1000 correct (52.90%)\n",
      "Epoch 3, iteration 400, loss = 1.1627\n",
      "Validation:\n",
      "     Got 535 / 1000 correct (53.50%)\n",
      "Epoch 3, iteration 500, loss = 1.3882\n",
      "Validation:\n",
      "     Got 545 / 1000 correct (54.50%)\n",
      "Epoch 3, iteration 600, loss = 1.3639\n",
      "Validation:\n",
      "     Got 545 / 1000 correct (54.50%)\n",
      "Epoch 3, iteration 700, loss = 1.3603\n",
      "Validation:\n",
      "     Got 551 / 1000 correct (55.10%)\n",
      "Epoch 4, iteration 0, loss = 1.1083\n",
      "Validation:\n",
      "     Got 542 / 1000 correct (54.20%)\n",
      "Epoch 4, iteration 100, loss = 1.1163\n",
      "Validation:\n",
      "     Got 563 / 1000 correct (56.30%)\n",
      "Epoch 4, iteration 200, loss = 0.9423\n",
      "Validation:\n",
      "     Got 555 / 1000 correct (55.50%)\n",
      "Epoch 4, iteration 300, loss = 1.2101\n",
      "Validation:\n",
      "     Got 543 / 1000 correct (54.30%)\n",
      "Epoch 4, iteration 400, loss = 1.1193\n",
      "Validation:\n",
      "     Got 549 / 1000 correct (54.90%)\n",
      "Epoch 4, iteration 500, loss = 1.3420\n",
      "Validation:\n",
      "     Got 560 / 1000 correct (56.00%)\n",
      "Epoch 4, iteration 600, loss = 1.2968\n",
      "Validation:\n",
      "     Got 562 / 1000 correct (56.20%)\n",
      "Epoch 4, iteration 700, loss = 1.2850\n",
      "Validation:\n",
      "     Got 555 / 1000 correct (55.50%)\n"
     ]
    },
    {
     "data": {
      "text/plain": [
       "[<tf.Variable 'Variable:0' shape=(5, 5, 3, 32) dtype=float32, numpy=\n",
       " array([[[[-0.07222158, -0.11639703,  0.11367083, ..., -0.31835845,\n",
       "           -0.14211869, -0.12884209],\n",
       "          [-0.00749914,  0.01391642, -0.21695545, ...,  0.00631646,\n",
       "            0.07540797,  0.13950725],\n",
       "          [ 0.0750052 , -0.14533442, -0.11203346, ..., -0.03313336,\n",
       "           -0.1856443 , -0.19321111]],\n",
       " \n",
       "         [[ 0.36797127,  0.2524342 , -0.01069581, ..., -0.0465981 ,\n",
       "            0.1129268 , -0.3842707 ],\n",
       "          [-0.16146909, -0.04832583, -0.1458473 , ..., -0.03186647,\n",
       "            0.12691481,  0.01435283],\n",
       "          [-0.25289202, -0.00925708,  0.46587026, ..., -0.09599748,\n",
       "            0.14445144,  0.0403995 ]],\n",
       " \n",
       "         [[-0.01216577,  0.12289172, -0.11244299, ..., -0.05628322,\n",
       "            0.19584796, -0.09853889],\n",
       "          [ 0.2743982 ,  0.00782392, -0.14499773, ..., -0.07996848,\n",
       "            0.29518458, -0.19275033],\n",
       "          [-0.26743698,  0.10721269, -0.1598881 , ..., -0.04685911,\n",
       "            0.09805907,  0.07337405]],\n",
       " \n",
       "         [[ 0.16423815, -0.30357662, -0.2572104 , ..., -0.04420624,\n",
       "           -0.07004342, -0.09370387],\n",
       "          [-0.01961395,  0.05941796, -0.05544384, ...,  0.07958406,\n",
       "           -0.00162517,  0.05308442],\n",
       "          [-0.00100224,  0.18346323, -0.0828533 , ..., -0.08090899,\n",
       "            0.0182598 , -0.08296734]],\n",
       " \n",
       "         [[ 0.17365006, -0.03286702, -0.27819186, ..., -0.02627923,\n",
       "           -0.10413473,  0.01055082],\n",
       "          [ 0.11893202, -0.04550521, -0.40080625, ..., -0.0886481 ,\n",
       "            0.33952922, -0.09709769],\n",
       "          [ 0.30515093,  0.18860091,  0.03921453, ..., -0.2901113 ,\n",
       "           -0.17112085, -0.14081588]]],\n",
       " \n",
       " \n",
       "        [[[-0.17601582,  0.00087523, -0.18733221, ..., -0.15532853,\n",
       "           -0.0845162 ,  0.02933759],\n",
       "          [ 0.03260614,  0.10150872,  0.14509971, ..., -0.3690558 ,\n",
       "            0.18566194,  0.07776874],\n",
       "          [ 0.04484724, -0.13770996,  0.3623158 , ...,  0.12865658,\n",
       "            0.00781242, -0.06337678]],\n",
       " \n",
       "         [[-0.02252295, -0.17910492,  0.20404589, ..., -0.09507314,\n",
       "            0.2420218 , -0.0708841 ],\n",
       "          [ 0.11340237, -0.04547083,  0.06369109, ...,  0.2229218 ,\n",
       "           -0.41262245, -0.3059557 ],\n",
       "          [-0.05079854, -0.09075627, -0.04058318, ...,  0.02804133,\n",
       "           -0.22621474,  0.09393752]],\n",
       " \n",
       "         [[-0.22463231, -0.16645057,  0.18071572, ...,  0.15268801,\n",
       "            0.08643544, -0.33074594],\n",
       "          [-0.06745712, -0.09379009,  0.12302247, ..., -0.15249337,\n",
       "           -0.07596484, -0.28746176],\n",
       "          [ 0.03076913, -0.01520668, -0.06306259, ..., -0.01387924,\n",
       "           -0.3266866 , -0.15740557]],\n",
       " \n",
       "         [[ 0.08306827, -0.17783253,  0.0652003 , ...,  0.13469684,\n",
       "           -0.28529993,  0.14358068],\n",
       "          [-0.08798421,  0.16532865,  0.21640591, ..., -0.03076934,\n",
       "            0.30954263,  0.19667563],\n",
       "          [ 0.03350991, -0.02429108,  0.12125658, ..., -0.15820588,\n",
       "           -0.13511789, -0.20655845]],\n",
       " \n",
       "         [[ 0.32061526,  0.19391938, -0.17711891, ..., -0.2094594 ,\n",
       "           -0.12351406,  0.03063568],\n",
       "          [-0.00546353, -0.24309658,  0.01708352, ...,  0.18539667,\n",
       "            0.17591465, -0.03206034],\n",
       "          [-0.04356124,  0.1606256 , -0.12430027, ..., -0.03761717,\n",
       "           -0.1655012 ,  0.03384964]]],\n",
       " \n",
       " \n",
       "        [[[-0.27492893, -0.00337124,  0.22938718, ..., -0.1283476 ,\n",
       "           -0.03600823, -0.09763023],\n",
       "          [ 0.09090419, -0.00906483,  0.09109551, ...,  0.13703866,\n",
       "            0.22194935,  0.28376126],\n",
       "          [ 0.21644653, -0.00436689, -0.11031403, ...,  0.10945533,\n",
       "            0.13336371, -0.0505639 ]],\n",
       " \n",
       "         [[-0.15700565, -0.04091891, -0.05320669, ..., -0.23213363,\n",
       "            0.19179982,  0.2480172 ],\n",
       "          [ 0.1624243 ,  0.07197043, -0.11715261, ...,  0.1261232 ,\n",
       "            0.1060183 ,  0.05835683],\n",
       "          [-0.00261383,  0.18359232, -0.08799513, ...,  0.36145428,\n",
       "           -0.20153655,  0.11441727]],\n",
       " \n",
       "         [[-0.37035346, -0.16923797, -0.03455944, ...,  0.18190959,\n",
       "           -0.08564129,  0.42295772],\n",
       "          [-0.02051975,  0.11608019, -0.37726015, ...,  0.05857459,\n",
       "            0.06740237,  0.18382074],\n",
       "          [-0.01166499,  0.09185351,  0.04206956, ...,  0.00911493,\n",
       "           -0.20350781, -0.08635192]],\n",
       " \n",
       "         [[ 0.10909778,  0.07609172, -0.13436103, ..., -0.12683803,\n",
       "           -0.036154  ,  0.22374919],\n",
       "          [-0.14513919, -0.21075498, -0.35049298, ...,  0.0870505 ,\n",
       "           -0.15287323, -0.29632962],\n",
       "          [-0.20430662,  0.24456559, -0.06346581, ..., -0.06458014,\n",
       "            0.01792101, -0.01622407]],\n",
       " \n",
       "         [[-0.02798711,  0.22101131, -0.25525254, ...,  0.02277037,\n",
       "            0.0244334 ,  0.10985158],\n",
       "          [ 0.01341593, -0.38979068, -0.15528247, ...,  0.17902549,\n",
       "           -0.09079403,  0.22041228],\n",
       "          [-0.11022618, -0.09242781,  0.15365225, ...,  0.06643981,\n",
       "            0.31131303, -0.08788519]]],\n",
       " \n",
       " \n",
       "        [[[-0.0789746 ,  0.0959215 , -0.02159392, ...,  0.07857329,\n",
       "            0.13128328, -0.19751498],\n",
       "          [ 0.06986965, -0.17316735,  0.02567318, ..., -0.16037859,\n",
       "            0.05842333, -0.26848075],\n",
       "          [-0.24924953,  0.07328817,  0.04245007, ...,  0.05613897,\n",
       "            0.38045678, -0.00426471]],\n",
       " \n",
       "         [[-0.04333108,  0.06783975,  0.09808172, ...,  0.04940427,\n",
       "            0.14168029, -0.15325569],\n",
       "          [-0.2784251 , -0.03918246,  0.0325692 , ..., -0.22066769,\n",
       "           -0.03051852, -0.0325009 ],\n",
       "          [-0.14495832, -0.35189098, -0.00142598, ..., -0.17927231,\n",
       "            0.12065541, -0.09815388]],\n",
       " \n",
       "         [[ 0.08068871,  0.3449834 ,  0.14928502, ...,  0.29431581,\n",
       "           -0.03843969, -0.02884308],\n",
       "          [ 0.42044854, -0.34300703,  0.2348975 , ..., -0.12878981,\n",
       "           -0.07208888,  0.2671736 ],\n",
       "          [-0.2757641 , -0.11447198,  0.32176447, ...,  0.08268219,\n",
       "           -0.14129715,  0.23787121]],\n",
       " \n",
       "         [[-0.08133718,  0.09159129,  0.34003308, ...,  0.08010618,\n",
       "           -0.00614767,  0.20436138],\n",
       "          [-0.15076777,  0.10202698,  0.2891186 , ...,  0.17989051,\n",
       "            0.1748727 ,  0.08557153],\n",
       "          [ 0.21470755, -0.20303744, -0.07462548, ...,  0.11164737,\n",
       "           -0.04509463, -0.03364185]],\n",
       " \n",
       "         [[-0.02785477,  0.22110434,  0.17411971, ..., -0.1097245 ,\n",
       "           -0.10073206, -0.11115572],\n",
       "          [ 0.1418165 ,  0.15550613,  0.09383339, ..., -0.09086868,\n",
       "           -0.08287148,  0.32831782],\n",
       "          [ 0.0701718 , -0.07374569,  0.15472768, ...,  0.12043387,\n",
       "           -0.2580109 ,  0.18430302]]],\n",
       " \n",
       " \n",
       "        [[[-0.182257  , -0.08740319,  0.21542549, ...,  0.05917853,\n",
       "            0.23361371,  0.2141449 ],\n",
       "          [ 0.08777656,  0.1764027 , -0.30502647, ...,  0.02337765,\n",
       "           -0.18449555, -0.01415382],\n",
       "          [-0.14078663, -0.00335812,  0.28208783, ..., -0.02431536,\n",
       "           -0.01386319,  0.08212478]],\n",
       " \n",
       "         [[ 0.16241528,  0.09094334,  0.16719826, ..., -0.05290701,\n",
       "            0.22375633, -0.13072038],\n",
       "          [-0.0896414 , -0.43882546, -0.19504598, ...,  0.2981113 ,\n",
       "           -0.05839362, -0.2864193 ],\n",
       "          [-0.10720498,  0.152971  , -0.26431006, ..., -0.16659325,\n",
       "           -0.05554784,  0.2657932 ]],\n",
       " \n",
       "         [[ 0.10955103, -0.14267987,  0.3445835 , ..., -0.14107269,\n",
       "           -0.0324533 ,  0.18390869],\n",
       "          [ 0.07346731, -0.183326  ,  0.04890353, ...,  0.15718403,\n",
       "           -0.13486291,  0.09089755],\n",
       "          [ 0.18266545, -0.15813021,  0.09313599, ...,  0.01480146,\n",
       "           -0.11873872,  0.01526461]],\n",
       " \n",
       "         [[ 0.01556059, -0.08849691, -0.02895207, ...,  0.05782238,\n",
       "            0.40731224, -0.04563383],\n",
       "          [-0.05484619, -0.04669921,  0.45283136, ..., -0.19570799,\n",
       "           -0.21164869,  0.1680078 ],\n",
       "          [-0.23786798,  0.28444195, -0.10680099, ..., -0.08910038,\n",
       "           -0.02707964, -0.04635236]],\n",
       " \n",
       "         [[ 0.07184566, -0.2012939 , -0.0313217 , ...,  0.48235685,\n",
       "           -0.07197364, -0.0886834 ],\n",
       "          [-0.06870306, -0.10725108,  0.0179441 , ...,  0.01929431,\n",
       "           -0.24907516, -0.13761081],\n",
       "          [-0.09974743, -0.06763486, -0.15935859, ..., -0.08893507,\n",
       "           -0.08722199,  0.12795687]]]], dtype=float32)>,\n",
       " <tf.Variable 'Variable:0' shape=(32,) dtype=float32, numpy=\n",
       " array([-0.04470403, -0.07035493, -0.10384491,  0.01708602, -0.00907342,\n",
       "        -0.03129852, -0.0434423 ,  0.08052554, -0.01638743, -0.0592925 ,\n",
       "         0.09249543,  0.00081761, -0.00933215,  0.04090178, -0.04285417,\n",
       "         0.03686418, -0.00837613, -0.02853348, -0.04226543, -0.07567222,\n",
       "         0.0956402 ,  0.01075418,  0.03576156,  0.01636364,  0.02357539,\n",
       "         0.12397601,  0.00867622,  0.06925832,  0.0334352 ,  0.08428802,\n",
       "        -0.04852049,  0.0626988 ], dtype=float32)>,\n",
       " <tf.Variable 'Variable:0' shape=(3, 3, 32, 16) dtype=float32, numpy=\n",
       " array([[[[-2.31233481e-02, -1.76586956e-02, -4.24569808e-02, ...,\n",
       "           -7.00608417e-02,  5.23921400e-02, -1.19322084e-01],\n",
       "          [ 1.43218357e-02, -1.55393258e-01,  1.27093807e-01, ...,\n",
       "           -2.46782713e-02,  2.05768254e-02, -1.65410876e-01],\n",
       "          [ 3.65059413e-02, -4.68835160e-02,  3.81407700e-02, ...,\n",
       "            9.37896892e-02, -1.07960142e-01, -2.43365228e-01],\n",
       "          ...,\n",
       "          [-6.46169782e-02, -9.15245563e-02,  1.50276169e-01, ...,\n",
       "           -1.06144354e-01,  7.61405453e-02, -1.45151660e-01],\n",
       "          [-2.52709296e-02,  2.75723878e-02,  8.09817836e-02, ...,\n",
       "            6.79529235e-02,  6.48166426e-03, -1.54889077e-01],\n",
       "          [-5.01288250e-02,  6.35809451e-02,  7.92258512e-03, ...,\n",
       "            2.58284854e-03,  7.91287422e-02, -7.08557740e-02]],\n",
       " \n",
       "         [[ 2.57687978e-02, -1.01650670e-01, -1.17270514e-01, ...,\n",
       "            3.09774708e-02,  2.15596333e-02, -1.49327844e-01],\n",
       "          [-2.09904052e-02,  6.80137251e-04,  1.21632069e-01, ...,\n",
       "            1.91694871e-02, -1.26798913e-01,  2.40250323e-02],\n",
       "          [-8.75365660e-02,  8.22055191e-02,  2.21517280e-01, ...,\n",
       "            4.54652216e-03, -1.52702825e-02,  5.54136559e-02],\n",
       "          ...,\n",
       "          [-5.19795269e-02,  3.44173573e-02,  2.58217216e-04, ...,\n",
       "            1.60429969e-01, -4.20375131e-02, -6.74857274e-02],\n",
       "          [ 5.18817827e-02,  9.27195922e-02,  7.69347474e-02, ...,\n",
       "            5.17210625e-02, -1.47622600e-01,  2.33871210e-02],\n",
       "          [-3.89024466e-02,  3.48465592e-02,  1.79139581e-02, ...,\n",
       "            1.26546711e-01, -7.51915872e-02, -1.44108996e-01]],\n",
       " \n",
       "         [[ 5.95315695e-02, -6.77237436e-02, -2.43524238e-02, ...,\n",
       "            5.27873449e-02,  2.33144723e-02,  3.17098498e-02],\n",
       "          [-2.07892731e-02,  7.21495003e-02, -2.04159301e-02, ...,\n",
       "            6.24734610e-02, -8.77613425e-02, -4.57595624e-02],\n",
       "          [-5.84985428e-02, -1.39558002e-01,  8.49108547e-02, ...,\n",
       "            1.95577532e-01, -1.48968890e-01, -6.06099032e-02],\n",
       "          ...,\n",
       "          [-2.41919365e-02,  4.54402789e-02,  6.25652894e-02, ...,\n",
       "            5.39714936e-03,  1.64773390e-01, -1.28862679e-01],\n",
       "          [-1.78392064e-02, -1.15323104e-01,  3.40478718e-02, ...,\n",
       "            7.16511384e-02,  5.52933812e-02,  5.10163652e-03],\n",
       "          [-3.75669310e-03, -9.37422737e-02, -1.11092947e-01, ...,\n",
       "            1.22282907e-01,  7.61161670e-02, -1.86058104e-01]]],\n",
       " \n",
       " \n",
       "        [[[-4.64110561e-02,  1.05410293e-01, -1.12990893e-01, ...,\n",
       "            6.15940914e-02, -1.14244476e-01, -5.15001044e-02],\n",
       "          [ 7.41294324e-02, -1.01837665e-01,  7.38577358e-03, ...,\n",
       "            5.80758648e-03,  5.82442097e-02,  1.27488390e-01],\n",
       "          [-3.20824645e-02, -8.07744171e-03,  1.32426113e-01, ...,\n",
       "           -8.58851820e-02,  4.33126464e-02,  3.37371640e-02],\n",
       "          ...,\n",
       "          [-4.21866551e-02, -1.49073619e-02,  2.76826299e-03, ...,\n",
       "            4.11019176e-02, -3.02148443e-02,  2.71830820e-02],\n",
       "          [ 1.33741125e-01,  9.04300064e-02, -3.51630561e-02, ...,\n",
       "            3.93008962e-02,  1.31959081e-01,  1.30355537e-01],\n",
       "          [-3.51100974e-02, -7.77353644e-02,  1.09661072e-02, ...,\n",
       "            1.88329574e-02,  1.27588660e-01,  1.43924663e-02]],\n",
       " \n",
       "         [[ 9.75967348e-02,  6.40807077e-02,  4.15254198e-02, ...,\n",
       "            1.16423041e-01, -1.74245030e-01,  7.40214819e-05],\n",
       "          [ 9.11563411e-02,  4.45850119e-02, -1.15776904e-01, ...,\n",
       "            5.67579716e-02,  1.54467255e-01, -1.60719275e-01],\n",
       "          [ 1.80492893e-01,  1.83460675e-02,  3.71737108e-02, ...,\n",
       "           -3.94010469e-02, -1.01167046e-01, -1.09034844e-01],\n",
       "          ...,\n",
       "          [ 4.32755835e-02, -7.67196119e-02, -7.19872564e-02, ...,\n",
       "           -4.46704216e-02, -2.61049308e-02, -1.05445825e-01],\n",
       "          [-9.92493927e-02, -3.37591857e-01, -7.92095736e-02, ...,\n",
       "            5.24142049e-02, -5.61807305e-02,  7.67704174e-02],\n",
       "          [-3.33703458e-02, -1.86408311e-02, -1.77719388e-02, ...,\n",
       "            5.59520014e-02,  5.81653304e-02,  8.63848254e-02]],\n",
       " \n",
       "         [[ 1.22731946e-01, -9.71152112e-02, -1.38027016e-02, ...,\n",
       "            1.74696837e-02,  6.55835941e-02, -3.51956598e-02],\n",
       "          [-2.10132310e-03, -8.17461163e-02,  6.33381456e-02, ...,\n",
       "            8.68114159e-02, -1.58158869e-01, -8.60407576e-02],\n",
       "          [-4.77689281e-02, -1.04808457e-01, -1.50343999e-01, ...,\n",
       "            7.63191134e-02,  7.02969730e-02,  2.23778505e-02],\n",
       "          ...,\n",
       "          [ 7.78932646e-02,  6.72379648e-03,  1.29033867e-02, ...,\n",
       "           -1.63441598e-02,  3.73979546e-02, -1.53533220e-01],\n",
       "          [-1.04926772e-01, -4.94537950e-02, -5.14848046e-02, ...,\n",
       "            1.01122586e-02,  1.12081049e-02,  1.18566670e-01],\n",
       "          [-1.77909099e-02,  2.47057974e-02,  1.86550170e-01, ...,\n",
       "            6.09555058e-02,  3.60415205e-02, -3.15231550e-03]]],\n",
       " \n",
       " \n",
       "        [[[ 3.52335256e-03, -4.63928729e-02,  8.24537948e-02, ...,\n",
       "            5.76264188e-02,  6.87143952e-02,  2.52062865e-02],\n",
       "          [ 1.13773895e-02,  5.70818558e-02, -3.11089978e-02, ...,\n",
       "            1.42898247e-01, -5.62235452e-02, -5.46160387e-03],\n",
       "          [-5.19221388e-02,  6.61840886e-02,  7.33239576e-02, ...,\n",
       "            1.88364819e-01, -1.44865230e-01,  5.72274905e-03],\n",
       "          ...,\n",
       "          [ 4.30417173e-02, -7.71012856e-03, -7.57300854e-02, ...,\n",
       "            6.49536327e-02, -1.22300811e-01, -1.43062416e-02],\n",
       "          [ 1.40935391e-01, -5.03475182e-02, -4.16208655e-02, ...,\n",
       "            3.82717736e-02,  2.54630931e-02,  3.13982330e-02],\n",
       "          [-1.19764237e-02,  2.46072430e-02,  1.18437588e-01, ...,\n",
       "           -1.26143038e-01, -6.76866695e-02, -1.27968282e-01]],\n",
       " \n",
       "         [[ 5.89852147e-02,  1.48179056e-02, -4.63784821e-02, ...,\n",
       "            6.61447346e-02,  9.28335413e-02,  2.15180442e-02],\n",
       "          [ 1.48777246e-01,  2.02704165e-02, -2.30725817e-02, ...,\n",
       "            2.33320072e-02, -3.81320864e-02,  2.00263545e-01],\n",
       "          [-1.28430994e-02,  6.70411438e-02, -7.12075643e-03, ...,\n",
       "            8.63607004e-02,  1.80880912e-02, -1.01792246e-01],\n",
       "          ...,\n",
       "          [-1.94197968e-02, -8.04776140e-03,  9.70015675e-02, ...,\n",
       "           -1.51139079e-02, -1.05171666e-01, -3.82496454e-02],\n",
       "          [-6.49338588e-02, -6.17025830e-02,  1.20146483e-01, ...,\n",
       "            1.29384786e-01, -4.49647419e-02,  7.39790201e-02],\n",
       "          [-5.99072352e-02,  3.19451690e-02,  7.49948621e-02, ...,\n",
       "           -5.86389489e-02, -1.20370820e-01, -1.33692801e-01]],\n",
       " \n",
       "         [[-1.37101263e-02, -3.13173123e-02,  2.83192936e-02, ...,\n",
       "            5.07958010e-02,  3.40929963e-02,  1.82103890e-03],\n",
       "          [-5.92876822e-02, -1.39021739e-01, -1.35746524e-01, ...,\n",
       "            2.30790645e-01, -3.33578996e-02,  7.61051774e-02],\n",
       "          [ 1.53953463e-01, -4.01483066e-02,  8.49200115e-02, ...,\n",
       "           -4.95426990e-02, -9.37476195e-03,  9.74694639e-02],\n",
       "          ...,\n",
       "          [ 8.08365941e-02,  1.39601320e-01,  5.10905720e-02, ...,\n",
       "           -1.22251771e-02,  4.85150963e-02, -1.45734236e-01],\n",
       "          [ 1.26952082e-01,  8.05145688e-03, -6.44766614e-02, ...,\n",
       "           -2.03947686e-02,  6.18461939e-03,  1.52376983e-02],\n",
       "          [-9.60933939e-02,  3.32368948e-02,  7.53779560e-02, ...,\n",
       "            9.26103517e-02, -4.43606749e-02,  3.38781849e-02]]]],\n",
       "       dtype=float32)>,\n",
       " <tf.Variable 'Variable:0' shape=(16,) dtype=float32, numpy=\n",
       " array([ 0.10089248,  0.0699953 ,  0.00852294,  0.02968839, -0.02274882,\n",
       "         0.03847122, -0.06749829,  0.00393359,  0.0221704 ,  0.01520431,\n",
       "         0.03290385,  0.3344233 , -0.07084537, -0.21310648,  0.02154676,\n",
       "         0.00826302], dtype=float32)>,\n",
       " <tf.Variable 'Variable:0' shape=(16384, 10) dtype=float32, numpy=\n",
       " array([[-0.00464268, -0.00499189,  0.01133495, ...,  0.00791485,\n",
       "          0.00804472,  0.00076623],\n",
       "        [ 0.01007068, -0.01070418,  0.02030387, ...,  0.00083456,\n",
       "          0.00254351, -0.00175203],\n",
       "        [-0.0026934 ,  0.00010159, -0.01458162, ...,  0.02157882,\n",
       "          0.02401952, -0.00440934],\n",
       "        ...,\n",
       "        [ 0.01646788,  0.00838975, -0.02376834, ..., -0.00849964,\n",
       "         -0.0030937 , -0.00506773],\n",
       "        [ 0.00453978,  0.01047254, -0.00659013, ..., -0.00536025,\n",
       "         -0.00700979, -0.00431104],\n",
       "        [ 0.00704905,  0.00500681,  0.02092148, ...,  0.00650764,\n",
       "          0.00364805, -0.0019149 ]], dtype=float32)>,\n",
       " <tf.Variable 'Variable:0' shape=(10,) dtype=float32, numpy=\n",
       " array([-0.00872772, -0.04298907,  0.0326973 ,  0.00775479,  0.04226301,\n",
       "        -0.00769513,  0.01858823, -0.0306629 ,  0.03242422, -0.04365271],\n",
       "       dtype=float32)>]"
      ]
     },
     "execution_count": 18,
     "metadata": {
      "tags": []
     },
     "output_type": "execute_result"
    }
   ],
   "source": [
    "def three_layer_convnet_init():\n",
    "    \"\"\"\n",
    "    Initialize the weights of a Three-Layer ConvNet, for use with the\n",
    "    three_layer_convnet function defined above.\n",
    "    You can use the `create_matrix_with_kaiming_normal` helper!\n",
    "    \n",
    "    Inputs: None\n",
    "    \n",
    "    Returns a list containing:\n",
    "    - conv_w1: TensorFlow tf.Variable giving weights for the first conv layer\n",
    "    - conv_b1: TensorFlow tf.Variable giving biases for the first conv layer\n",
    "    - conv_w2: TensorFlow tf.Variable giving weights for the second conv layer\n",
    "    - conv_b2: TensorFlow tf.Variable giving biases for the second conv layer\n",
    "    - fc_w: TensorFlow tf.Variable giving weights for the fully-connected layer\n",
    "    - fc_b: TensorFlow tf.Variable giving biases for the fully-connected layer\n",
    "    \"\"\"\n",
    "    params = None\n",
    "    ############################################################################\n",
    "    # TODO: Initialize the parameters of the three-layer network.              #\n",
    "    ############################################################################\n",
    "    # *****START OF YOUR CODE (DO NOT DELETE/MODIFY THIS LINE)*****\n",
    "    conv_w1 = tf.Variable(create_matrix_with_kaiming_normal((5, 5, 3, 32)))\n",
    "    conv_b1 = tf.Variable(tf.zeros((32,)))\n",
    "\n",
    "    conv_w2 = tf.Variable(create_matrix_with_kaiming_normal((3, 3, 32, 16)))\n",
    "    conv_b2 = tf.Variable(tf.zeros((16,)))\n",
    "\n",
    "    fc_w = tf.Variable(create_matrix_with_kaiming_normal((32 * 32 * 16, 10)))\n",
    "    fc_b = tf.Variable(tf.zeros((10,)))\n",
    "\n",
    "    params = [conv_w1, conv_b1, conv_w2, conv_b2, fc_w, fc_b]\n",
    "\n",
    "\n",
    "    # *****END OF YOUR CODE (DO NOT DELETE/MODIFY THIS LINE)*****\n",
    "    ############################################################################\n",
    "    #                             END OF YOUR CODE                             #\n",
    "    ############################################################################\n",
    "    return params\n",
    "\n",
    "learning_rate = 3e-3\n",
    "train_part2(three_layer_convnet, three_layer_convnet_init, learning_rate,5)"
   ]
  },
  {
   "cell_type": "markdown",
   "metadata": {
    "id": "Q59cSynwXOL2"
   },
   "source": [
    "# Part V: Train a _GREAT_ model on CIFAR-10!\n",
    "\n",
    "In this section you can experiment with whatever ConvNet architecture you'd like on CIFAR-10.\n",
    "\n",
    "You should experiment with architectures, hyperparameters, loss functions, regularization, or anything else you can think of to train a model that achieves **at least 70%** accuracy on the **validation** set within 10 epochs. You can use the built-in train function, the `train_part34` function from above, or implement your own training loop.\n",
    "\n",
    "Describe what you did at the end of the notebook.\n",
    "\n",
    "### Some things you can try:\n",
    "- **Filter size**: Above we used 5x5 and 3x3; is this optimal?\n",
    "- **Number of filters**: Above we used 16 and 32 filters. Would more or fewer do better?\n",
    "- **Pooling**: We didn't use any pooling above. Would this improve the model?\n",
    "- **Normalization**: Would your model be improved with batch normalization, layer normalization, group normalization, or some other normalization strategy?\n",
    "- **Network architecture**: The ConvNet above has only three layers of trainable parameters. Would a deeper model do better? Good architectures to try include:\n",
    "    - [conv-relu-pool]xN -> [affine]xM -> [softmax or SVM]\n",
    "    - [conv-relu-conv-relu-pool]xN -> [affine]xM -> [softmax or SVM]\n",
    "    - [batchnorm-relu-conv]xN -> [affine]xM -> [softmax or SVM]\n",
    "- **Global average pooling**: Instead of flattening after the final convolutional layer, would global average pooling do better? This strategy is used for example in Google's Inception network and in Residual Networks.\n",
    "- **Regularization**: Would some kind of regularization improve performance? Maybe weight decay or dropout?\n",
    "\n",
    "### NOTE: Batch Normalization / Dropout\n",
    "If you are using Batch Normalization and Dropout, remember to pass `is_training=True` if you use the `train_part34()` function. BatchNorm and Dropout layers have different behaviors at training and inference time. `training` is a specific keyword argument reserved for this purpose in any `tf.keras.Model`'s `call()` function. Read more about this here : https://www.tensorflow.org/versions/r2.0/api_docs/python/tf/keras/layers/BatchNormalization#methods\n",
    "https://www.tensorflow.org/versions/r2.0/api_docs/python/tf/keras/layers/Dropout#methods\n",
    "\n",
    "### Tips for training\n",
    "For each network architecture that you try, you should tune the learning rate and other hyperparameters. When doing this there are a couple important things to keep in mind: \n",
    "\n",
    "- If the parameters are working well, you should see improvement within a few hundred iterations\n",
    "- Remember the coarse-to-fine approach for hyperparameter tuning: start by testing a large range of hyperparameters for just a few training iterations to find the combinations of parameters that are working at all.\n",
    "- Once you have found some sets of parameters that seem to work, search more finely around these parameters. You may need to train for more epochs.\n",
    "- You should use the validation set for hyperparameter search, and save your test set for evaluating your architecture on the best parameters as selected by the validation set.\n",
    "\n",
    "### Going above and beyond\n",
    "If you are feeling adventurous there are many other features you can implement to try and improve your performance. You are **not required** to implement any of these, but don't miss the fun if you have time!\n",
    "\n",
    "- Alternative optimizers: you can try Adam, Adagrad, RMSprop, etc.\n",
    "- Alternative activation functions such as leaky ReLU, parametric ReLU, ELU, or MaxOut.\n",
    "- Model ensembles\n",
    "- Data augmentation\n",
    "- New Architectures\n",
    "  - [ResNets](https://arxiv.org/abs/1512.03385) where the input from the previous layer is added to the output.\n",
    "  - [DenseNets](https://arxiv.org/abs/1608.06993) where inputs into previous layers are concatenated together.\n",
    "  - [This blog has an in-depth overview](https://chatbotslife.com/resnets-highwaynets-and-densenets-oh-my-9bb15918ee32)\n",
    "  \n",
    "### Have fun and happy training! "
   ]
  },
  {
   "cell_type": "code",
   "execution_count": 19,
   "metadata": {
    "id": "a0B8hD32XOL2"
   },
   "outputs": [],
   "source": [
    "# def train_part34(model_init_fn, optimizer_init_fn, num_epochs=1, is_training=False):\n",
    "#  ############################################################################\n",
    "# # TODO: Train a model on CIFAR-10.                 #\n",
    "# ############################################################################\n",
    "# # *****START OF YOUR CODE (DO NOT DELETE/MODIFY THIS LINE)*****\n",
    "\n",
    "# pass\n",
    "\n",
    "# # *****END OF YOUR CODE (DO NOT DELETE/MODIFY THIS LINE)*****\n",
    "# ############################################################################\n",
    "# #                            END OF YOUR CODE                              #\n",
    "# ############################################################################\n"
   ]
  },
  {
   "cell_type": "code",
   "execution_count": 22,
   "metadata": {
    "id": "rtxmGwCHXOL2"
   },
   "outputs": [],
   "source": [
    "# use Layer class to define inner computation blocks:\n",
    "# 1. Convolutional module \n",
    "# 2. Inception module\n",
    "# 3. Downsampling module\n",
    "class ConvModule(tf.keras.layers.Layer):\n",
    "    def __init__(self, kernel_num, kernel_size, strides, padding='same'):\n",
    "        super(ConvModule, self).__init__()\n",
    "        # conv layer\n",
    "        self.conv = tf.keras.layers.Conv2D(kernel_num,\n",
    "                                           kernel_size=kernel_size,\n",
    "                                           strides=strides,\n",
    "                                           padding=padding)\n",
    "        # batch norm layer\n",
    "        self.bn   = tf.keras.layers.BatchNormalization()\n",
    "\n",
    "    def call(self, input_tensor, training=False):\n",
    "        x = self.conv(input_tensor)\n",
    "        x = self.bn(x, training=training)\n",
    "        x = tf.nn.relu(x)\n",
    "        return x\n",
    "\n",
    "        \n",
    "class InceptionModule(tf.keras.layers.Layer):\n",
    "    def __init__(self, kernel_size1x1, kernel_size3x3):\n",
    "        super(InceptionModule, self).__init__()\n",
    "        # two conv modules: they will take same input tensor \n",
    "        self.conv1 = ConvModule(kernel_size1x1, \n",
    "                                kernel_size=(1,1), \n",
    "                                strides=(1,1))\n",
    "        self.conv2 = ConvModule(kernel_size3x3, \n",
    "                                kernel_size=(3,3), \n",
    "                                strides=(1,1))\n",
    "        self.cat   = tf.keras.layers.Concatenate()\n",
    "\n",
    "    def call(self, input_tensor, training=False):\n",
    "        # forward pass & merge\n",
    "        x_1x1 = self.conv1(input_tensor)\n",
    "        x_3x3 = self.conv2(input_tensor)\n",
    "        x = self.cat([x_1x1, x_3x3])\n",
    "        return x \n",
    "\n",
    "\n",
    "class DownsampleModule(tf.keras.layers.Layer):\n",
    "    def __init__(self, kernel_size):\n",
    "        super(DownsampleModule, self).__init__()\n",
    "        # conv layer\n",
    "        self.conv3 = ConvModule(kernel_size,\n",
    "                                kernel_size=(3,3),\n",
    "                                strides=(2,2),\n",
    "                                padding=\"valid\") \n",
    "        # pooling layer\n",
    "        self.pool  = tf.keras.layers.MaxPooling2D(pool_size=(3, 3), strides=(2,2))\n",
    "        self.cat   = tf.keras.layers.Concatenate()\n",
    "        \n",
    "    def call(self, input_tensor, training=False):\n",
    "        # forward pass & merge\n",
    "        conv_x = self.conv3(input_tensor, training=training)\n",
    "        pool_x = self.pool(input_tensor)\n",
    "        x = self.cat([conv_x, pool_x])\n",
    "        return x\n",
    "\n",
    "        \n",
    "class CustomConvNet(tf.keras.Model):\n",
    "    def __init__(self, num_classes):\n",
    "        super(CustomConvNet, self).__init__()\n",
    "        ############################################################################\n",
    "        # TODO: Construct a model that performs well on CIFAR-10                   #\n",
    "        ############################################################################\n",
    "        # *****START OF YOUR CODE (DO NOT DELETE/MODIFY THIS LINE)*****\n",
    "\n",
    "        # the first conv module\n",
    "        self.conv_block = ConvModule(96, (3,3), (1,1))\n",
    "\n",
    "        # 2 inception module & 1 downsample module\n",
    "        self.inception_block1  = InceptionModule(32, 32)\n",
    "        self.inception_block2  = InceptionModule(32, 48)\n",
    "        self.downsample_block1 = DownsampleModule(80)\n",
    "        \n",
    "        # 4 inception module & 1 downsample module\n",
    "        self.inception_block3  = InceptionModule(112, 48)\n",
    "        self.inception_block4  = InceptionModule(96, 64)\n",
    "        self.inception_block5  = InceptionModule(80, 80)\n",
    "        self.inception_block6  = InceptionModule(48, 96)\n",
    "        self.downsample_block2 = DownsampleModule(96)\n",
    "\n",
    "        # 2 inception module \n",
    "        self.inception_block7 = InceptionModule(176, 160)\n",
    "        self.inception_block8 = InceptionModule(176, 160)\n",
    "\n",
    "        # average pooling\n",
    "        self.avg_pool = tf.keras.layers.AveragePooling2D((7,7))\n",
    "        \n",
    "        # dropout\n",
    "        self.dropout = tf.keras.layers.Dropout(0.5)\n",
    "\n",
    "        # softmax classifier\n",
    "        self.flatten = tf.keras.layers.Flatten()\n",
    "        self.dense = tf.keras.layers.Dense(num_classes)\n",
    "        self.softmax = tf.keras.layers.Activation(\"softmax\")\n",
    "\n",
    "        # *****END OF YOUR CODE (DO NOT DELETE/MODIFY THIS LINE)*****\n",
    "        ############################################################################\n",
    "        #                            END OF YOUR CODE                              #\n",
    "        ############################################################################\n",
    "    \n",
    "    def call(self, input_tensor, training=False, **kwargs):\n",
    "        ############################################################################\n",
    "        # TODO: Construct a model that performs well on CIFAR-10                   #\n",
    "        ############################################################################\n",
    "        # *****START OF YOUR CODE (DO NOT DELETE/MODIFY THIS LINE)*****\n",
    "        \n",
    "        x = self.conv_block(input_tensor)\n",
    "        x = self.inception_block1(x)\n",
    "        x = self.inception_block2(x)\n",
    "        x = self.downsample_block1(x)\n",
    "\n",
    "        x = self.inception_block3(x)\n",
    "        x = self.inception_block4(x)\n",
    "        x = self.inception_block5(x)\n",
    "        x = self.inception_block6(x)\n",
    "        x = self.downsample_block2(x)\n",
    "\n",
    "        x = self.inception_block7(x)\n",
    "        x = self.inception_block8(x)\n",
    "        x = self.avg_pool(x)\n",
    "        \n",
    "        x = self.dropout(x)\n",
    "\n",
    "        x = self.flatten(x)\n",
    "        x = self.dense(x)\n",
    "        x = self.softmax(x)\n",
    "\n",
    "        # *****END OF YOUR CODE (DO NOT DELETE/MODIFY THIS LINE)*****\n",
    "        ############################################################################\n",
    "        #                            END OF YOUR CODE                              #\n",
    "        ############################################################################\n",
    "        return x\n",
    "\n",
    "    def build_graph(self, raw_shape):\n",
    "        # helper function to plot model summary information\n",
    "        x = tf.keras.layers.Input(shape=raw_shape)\n",
    "        return tf.keras.Model(inputs=[x], outputs=self.call(x))"
   ]
  },
  {
   "cell_type": "code",
   "execution_count": 23,
   "metadata": {
    "colab": {
     "base_uri": "https://localhost:8080/"
    },
    "id": "DGzc4UPAXOL2",
    "outputId": "4177720d-d9b1-4b1e-c0ff-d35ec3aa528f"
   },
   "outputs": [
    {
     "name": "stdout",
     "output_type": "stream",
     "text": [
      "loading CIFAR-10 dataset...\n",
      "converting labels from integers to vectors...\n",
      "Model: \"model\"\n",
      "_________________________________________________________________\n",
      "Layer (type)                 Output Shape              Param #   \n",
      "=================================================================\n",
      "input_1 (InputLayer)         [(None, 32, 32, 3)]       0         \n",
      "_________________________________________________________________\n",
      "conv_module (ConvModule)     (None, 32, 32, 96)        3072      \n",
      "_________________________________________________________________\n",
      "inception_module (InceptionM (None, 32, 32, 64)        31040     \n",
      "_________________________________________________________________\n",
      "inception_module_1 (Inceptio (None, 32, 32, 80)        30096     \n",
      "_________________________________________________________________\n",
      "downsample_module (Downsampl (None, 15, 15, 160)       58000     \n",
      "_________________________________________________________________\n",
      "inception_module_2 (Inceptio (None, 15, 15, 160)       87840     \n",
      "_________________________________________________________________\n",
      "inception_module_3 (Inceptio (None, 15, 15, 160)       108320    \n",
      "_________________________________________________________________\n",
      "inception_module_4 (Inceptio (None, 15, 15, 160)       128800    \n",
      "_________________________________________________________________\n",
      "inception_module_5 (Inceptio (None, 15, 15, 144)       146640    \n",
      "_________________________________________________________________\n",
      "downsample_module_1 (Downsam (None, 7, 7, 240)         124896    \n",
      "_________________________________________________________________\n",
      "inception_module_6 (Inceptio (None, 7, 7, 336)         389520    \n",
      "_________________________________________________________________\n",
      "inception_module_7 (Inceptio (None, 7, 7, 336)         544656    \n",
      "_________________________________________________________________\n",
      "average_pooling2d (AveragePo (None, 1, 1, 336)         0         \n",
      "_________________________________________________________________\n",
      "dropout (Dropout)            (None, 1, 1, 336)         0         \n",
      "_________________________________________________________________\n",
      "flatten (Flatten)            (None, 336)               0         \n",
      "_________________________________________________________________\n",
      "dense (Dense)                (None, 10)                3370      \n",
      "_________________________________________________________________\n",
      "activation (Activation)      (None, 10)                0         \n",
      "=================================================================\n",
      "Total params: 1,656,250\n",
      "Trainable params: 1,652,826\n",
      "Non-trainable params: 3,424\n",
      "_________________________________________________________________\n",
      "compiling model...\n",
      "training network...\n",
      "Epoch 1/10\n",
      "765/765 [==============================] - 80s 100ms/step - loss: 1.7352 - accuracy: 0.3728 - val_loss: 1.2220 - val_accuracy: 0.5730\n",
      "Epoch 2/10\n",
      "765/765 [==============================] - 74s 97ms/step - loss: 1.1340 - accuracy: 0.5982 - val_loss: 1.0418 - val_accuracy: 0.6560\n",
      "Epoch 3/10\n",
      "765/765 [==============================] - 74s 97ms/step - loss: 0.9234 - accuracy: 0.6753 - val_loss: 1.0928 - val_accuracy: 0.6360\n",
      "Epoch 4/10\n",
      "765/765 [==============================] - 74s 97ms/step - loss: 0.7954 - accuracy: 0.7239 - val_loss: 0.7182 - val_accuracy: 0.7520\n",
      "Epoch 5/10\n",
      "765/765 [==============================] - 74s 97ms/step - loss: 0.7149 - accuracy: 0.7556 - val_loss: 0.8315 - val_accuracy: 0.7470\n",
      "Epoch 6/10\n",
      "765/765 [==============================] - 74s 97ms/step - loss: 0.6548 - accuracy: 0.7746 - val_loss: 0.7498 - val_accuracy: 0.7730\n",
      "Epoch 7/10\n",
      "765/765 [==============================] - 74s 97ms/step - loss: 0.5872 - accuracy: 0.8005 - val_loss: 0.7802 - val_accuracy: 0.7630\n",
      "Epoch 8/10\n",
      "765/765 [==============================] - 74s 97ms/step - loss: 0.5564 - accuracy: 0.8083 - val_loss: 0.5092 - val_accuracy: 0.8270\n",
      "Epoch 9/10\n",
      "765/765 [==============================] - 74s 97ms/step - loss: 0.5137 - accuracy: 0.8239 - val_loss: 0.5600 - val_accuracy: 0.8220\n",
      "Epoch 10/10\n",
      "765/765 [==============================] - 74s 97ms/step - loss: 0.4774 - accuracy: 0.8366 - val_loss: 0.4671 - val_accuracy: 0.8500\n"
     ]
    }
   ],
   "source": [
    "# initialize the label names for the CIFAR-10 dataset\n",
    "labelNames = [\"airplane\", \"automobile\", \"bird\", \"cat\", \"deer\", \n",
    "              \"dog\", \"frog\", \"horse\", \"ship\", \"truck\"]\n",
    "\n",
    "# load the CIFAR-10 dataset\n",
    "print(\"loading CIFAR-10 dataset...\")\n",
    "X_train, y_train, X_val, y_val, X_test, y_test = load_cifar10()\n",
    "\n",
    "# convert the labels from integers to vectors\n",
    "print(\"converting labels from integers to vectors...\")\n",
    "lb = LabelBinarizer()\n",
    "y_train = lb.fit_transform(y_train)\n",
    "y_val = lb.transform(y_val)\n",
    "y_test = lb.transform(y_test)\n",
    "\n",
    "# construct the image generator for data augmentation\n",
    "aug = tf.keras.preprocessing.image.ImageDataGenerator(rotation_range=18, \n",
    "                                                      zoom_range=0.15, \n",
    "                                                      width_shift_range=0.2, \n",
    "                                                      height_shift_range=0.2, \n",
    "                                                      shear_range=0.15, \n",
    "                                                      horizontal_flip=True, \n",
    "                                                      fill_mode=\"nearest\")\n",
    "\n",
    "#device = '/device:GPU:0'   # Change this to a CPU/GPU as you wish!\n",
    "device = '/cpu:0'        # Change this to a CPU/GPU as you wish!\n",
    "num_epochs = 10\n",
    "init_lr = 1e-3\n",
    "batch_size = 64\n",
    "raw_shape = (X_train.shape[1], X_train.shape[2], X_train.shape[3])\n",
    "\n",
    "# init model\n",
    "model = CustomConvNet(len(labelNames))\n",
    "# print summary\n",
    "model.build_graph(raw_shape).summary()\n",
    "\n",
    "# initialize the optimizer and compile the model\n",
    "print(\"compiling model...\")\n",
    "opt = tf.keras.optimizers.Adam(lr=init_lr, decay=init_lr/num_epochs)\n",
    "model.compile(loss=\"categorical_crossentropy\", optimizer=opt, metrics=[\"accuracy\"])\n",
    "\n",
    "# train the network\n",
    "print(\"training network...\")\n",
    "H = model.fit(aug.flow(X_train, y_train, batch_size=batch_size),\n",
    "              validation_data=(X_val, y_val),\n",
    "              steps_per_epoch=X_train.shape[0] // batch_size,\n",
    "              epochs=num_epochs)\n",
    "\n",
    "# def model_init_fn():\n",
    "#     return CustomConvNet()\n",
    "\n",
    "# def optimizer_init_fn():\n",
    "#     learning_rate = 1e-3\n",
    "#     return tf.keras.optimizers.Adam(learning_rate) \n",
    "\n",
    "# print('Train')\n",
    "# trained_params =train_part34(model_init_fn, optimizer_init_fn, num_epochs=num_epochs, is_training=True)\n",
    "\n",
    "# print('Test')\n",
    "# check_accuracy(test_dset, model_init_fn, trained_params)"
   ]
  },
  {
   "cell_type": "code",
   "execution_count": 24,
   "metadata": {
    "colab": {
     "base_uri": "https://localhost:8080/"
    },
    "id": "NbP1-91PXOL3",
    "outputId": "a3157735-c8b6-4563-ae15-00dfd0259771"
   },
   "outputs": [
    {
     "name": "stdout",
     "output_type": "stream",
     "text": [
      "evaluating network...\n",
      "157/157 [==============================] - 5s 32ms/step - loss: 0.4965 - accuracy: 0.8326\n",
      "Test loss:  0.49649888277053833  Test accuracy:  0.8325999975204468\n",
      "              precision    recall  f1-score   support\n",
      "\n",
      "    airplane       0.90      0.81      0.86      1000\n",
      "  automobile       0.91      0.96      0.93      1000\n",
      "        bird       0.73      0.82      0.77      1000\n",
      "         cat       0.69      0.76      0.72      1000\n",
      "        deer       0.77      0.81      0.79      1000\n",
      "         dog       0.89      0.69      0.78      1000\n",
      "        frog       0.78      0.94      0.85      1000\n",
      "       horse       0.96      0.71      0.82      1000\n",
      "        ship       0.87      0.94      0.90      1000\n",
      "       truck       0.92      0.89      0.90      1000\n",
      "\n",
      "    accuracy                           0.83     10000\n",
      "   macro avg       0.84      0.83      0.83     10000\n",
      "weighted avg       0.84      0.83      0.83     10000\n",
      "\n"
     ]
    }
   ],
   "source": [
    "# evaluate the network\n",
    "print(\"evaluating network...\")\n",
    "scores = model.evaluate(X_test, y_test, batch_size=batch_size)\n",
    "print(\"Test loss: \", scores[0], \" Test accuracy: \", scores[1])\n",
    "\n",
    "preds = model.predict(X_test, batch_size=batch_size)\n",
    "print(classification_report(y_test.argmax(axis=1),\n",
    "                            preds.argmax(axis=1), \n",
    "                            target_names=labelNames))"
   ]
  },
  {
   "cell_type": "code",
   "execution_count": 25,
   "metadata": {
    "colab": {
     "base_uri": "https://localhost:8080/",
     "height": 299
    },
    "id": "FPhHa2MlXOL3",
    "outputId": "d9f19487-3b7a-4d85-bd8a-dd7348255d4b"
   },
   "outputs": [
    {
     "data": {
      "image/png": "[encoded data removed]",
      "text/plain": [
       "<Figure size 432x288 with 1 Axes>"
      ]
     },
     "metadata": {
      "tags": []
     },
     "output_type": "display_data"
    }
   ],
   "source": [
    "N = np.arange(0, num_epochs)\n",
    "title = \"Training Loss and Accuracy on CIFAR-10\"\n",
    "\n",
    "# plot the training loss and accuracy\n",
    "plt.style.use(\"ggplot\")\n",
    "plt.figure()\n",
    "plt.plot(N, H.history[\"loss\"], label=\"train_loss\")\n",
    "plt.plot(N, H.history[\"val_loss\"], label=\"val_loss\")\n",
    "plt.plot(N, H.history[\"accuracy\"], label=\"train_acc\")\n",
    "plt.plot(N, H.history[\"val_accuracy\"], label=\"val_acc\")\n",
    "plt.title(title)\n",
    "plt.xlabel(\"Epoch #\")\n",
    "plt.ylabel(\"Loss/Accuracy\")\n",
    "plt.legend()\n",
    "plt.show()"
   ]
  },
  {
   "cell_type": "markdown",
   "metadata": {
    "id": "lLBoVwnvXOL3",
    "tags": [
     "pdf-inline"
    ]
   },
   "source": [
    "## Describe what you did \n",
    "\n",
    "In the cell below you should write an explanation of what you did, any additional features that you implemented, and/or any graphs that you made in the process of training and evaluating your network."
   ]
  },
  {
   "cell_type": "markdown",
   "metadata": {
    "id": "tI6yWP6RXOL3",
    "tags": [
     "pdf-inline"
    ]
   },
   "source": [
    "TODO:"
   ]
  },
  {
   "cell_type": "markdown",
   "metadata": {
    "id": "e06fyUNtXOL4"
   },
   "source": [
    "I instantiated an image generator object with tf.keras.preprocessing.image.ImageDataGenerator for the training set to perform data augmentation on the fly. For the model architecture, I used a smaller variant of GoogleNet with various inner computation blocks - convolutional, inception and downsampling modules. Each of these modules are defined from the tf.keras.layers.Layer class. For the convolutional module, I tried using CONV > BN > RELU stack. For the inception module, I concatenated two CONV layers with zero padding, one using a 1x1 and another using a 3x3 kernel filter. For the downsampling module, I concatenated one CONV layer, without padding, and another MAXPOOL layer.\n",
    "\n",
    "The overall architecture consists of a convolutional module that takes the input, followed by 2 inception modules & 1 downsampling module, 4 inception modules & 1 downsampling module, and another 2 inception modules. The output from the last inception module enters a global average pooling layer, before the final softmax classifier head.\n",
    "\n",
    "The model is compiled using the Adam optimizer with learning rate decay, and uses the categorical cross-entropy loss function.  "
   ]
  },
  {
   "cell_type": "code",
   "execution_count": null,
   "metadata": {},
   "outputs": [],
   "source": []
  }
 ],
 "metadata": {
  "accelerator": "GPU",
  "colab": {
   "collapsed_sections": [],
   "name": "TensorFlow.ipynb",
   "provenance": []
  },
  "kernelspec": {
   "display_name": "Python 3",
   "language": "python",
   "name": "python3"
  },
  "language_info": {
   "codemirror_mode": {
    "name": "ipython",
    "version": 3
   },
   "file_extension": ".py",
   "mimetype": "text/x-python",
   "name": "python",
   "nbconvert_exporter": "python",
   "pygments_lexer": "ipython3",
   "version": "3.6.9"
  }
 },
 "nbformat": 4,
 "nbformat_minor": 1
}
