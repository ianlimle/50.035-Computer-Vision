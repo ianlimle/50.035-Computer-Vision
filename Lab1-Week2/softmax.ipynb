{
 "cells": [
  {
   "cell_type": "markdown",
   "metadata": {},
   "source": [
    "# Softmax exercise\n",
    "\n",
    "*Complete and hand in this completed worksheet (including its outputs and any supporting code outside of the worksheet) with your assignment submission.*\n",
    "\n",
    "In this exercise, you will:\n",
    "\n",
    "- implement a fully-vectorized **loss function** for the Softmax classifier\n",
    "- implement the fully-vectorized expression for its **analytic gradient**\n",
    "- **check your implementation** with numerical gradient\n",
    "- use a validation set to **tune the learning rate and regularization** strength\n",
    "- **optimize** the loss function with **SGD**\n",
    "- **visualize** the final learned weights\n"
   ]
  },
  {
   "cell_type": "markdown",
   "metadata": {},
   "source": [
    "**Acknowledgement: This exercise is adapted from [Stanford CS231n](http://cs231n.stanford.edu/).**"
   ]
  },
  {
   "cell_type": "code",
   "execution_count": 1,
   "metadata": {},
   "outputs": [],
   "source": [
    "import random\n",
    "import numpy as np\n",
    "from data_utils import load_CIFAR10\n",
    "import matplotlib.pyplot as plt\n",
    "\n",
    "%matplotlib inline\n",
    "plt.rcParams['figure.figsize'] = (10.0, 8.0) # set default size of plots\n",
    "plt.rcParams['image.interpolation'] = 'nearest'\n",
    "plt.rcParams['image.cmap'] = 'gray'\n",
    "\n",
    "# for auto-reloading extenrnal modules\n",
    "# see http://stackoverflow.com/questions/1907993/autoreload-of-modules-in-ipython\n",
    "%load_ext autoreload\n",
    "%autoreload 2"
   ]
  },
  {
   "cell_type": "code",
   "execution_count": 2,
   "metadata": {},
   "outputs": [],
   "source": [
    "def rel_error(out, correct_out):\n",
    "    return np.sum(abs(out - correct_out) / (abs(out) + abs(correct_out)))"
   ]
  },
  {
   "cell_type": "code",
   "execution_count": 3,
   "metadata": {},
   "outputs": [
    {
     "name": "stdout",
     "output_type": "stream",
     "text": [
      "Train data shape:  (49000, 3073)\n",
      "Train labels shape:  (49000,)\n",
      "Validation data shape:  (1000, 3073)\n",
      "Validation labels shape:  (1000,)\n",
      "Test data shape:  (1000, 3073)\n",
      "Test labels shape:  (1000,)\n",
      "dev data shape:  (500, 3073)\n",
      "dev labels shape:  (500,)\n"
     ]
    }
   ],
   "source": [
    "def get_CIFAR10_data(num_training=49000, num_validation=1000, num_test=1000, num_dev=500):\n",
    "    \"\"\"\n",
    "    Load the CIFAR-10 dataset from disk and perform preprocessing to prepare\n",
    "    it for the linear classifier. These are the same steps as we used for the\n",
    "    Softmax, but condensed to a single function.  \n",
    "    \"\"\"\n",
    "    # Load the raw CIFAR-10 data\n",
    "    cifar10_dir = 'datasets/cifar-10-batches-py'\n",
    "    X_train, y_train, X_test, y_test = load_CIFAR10(cifar10_dir)\n",
    "\n",
    "    # subsample the data\n",
    "    mask = range(num_training, num_training + num_validation)\n",
    "    X_val = X_train[mask]\n",
    "    y_val = y_train[mask]\n",
    "    mask = range(num_training)\n",
    "    X_train = X_train[mask]\n",
    "    y_train = y_train[mask]\n",
    "    mask = range(num_test)\n",
    "    X_test = X_test[mask]\n",
    "    y_test = y_test[mask]\n",
    "    \n",
    "    # # We will also make a development set, which is a small subset of\n",
    "    # the training set.\n",
    "    mask = np.random.choice(num_training, num_dev, replace=False)\n",
    "    X_dev = X_train[mask]\n",
    "    y_dev = y_train[mask]\n",
    "\n",
    "    # Preprocessing: reshape the image data into rows\n",
    "    X_train = np.reshape(X_train, (X_train.shape[0], -1))\n",
    "    X_val = np.reshape(X_val, (X_val.shape[0], -1))\n",
    "    X_test = np.reshape(X_test, (X_test.shape[0], -1))\n",
    "    X_dev = np.reshape(X_dev, (X_dev.shape[0], -1))\n",
    "\n",
    "    # Normalize the data: subtract the mean image\n",
    "    mean_image = np.mean(X_train, axis = 0)\n",
    "    X_train -= mean_image\n",
    "    X_val -= mean_image\n",
    "    X_test -= mean_image\n",
    "    X_dev -= mean_image\n",
    "\n",
    "    # add bias dimension and transform into columns\n",
    "    X_train = np.hstack([X_train, np.ones((X_train.shape[0], 1))])\n",
    "    X_val = np.hstack([X_val, np.ones((X_val.shape[0], 1))])\n",
    "    X_test = np.hstack([X_test, np.ones((X_test.shape[0], 1))])\n",
    "    X_dev = np.hstack([X_dev, np.ones((X_dev.shape[0], 1))])\n",
    "\n",
    "    return X_train, y_train, X_val, y_val, X_test, y_test, X_dev, y_dev\n",
    "\n",
    "\n",
    "# Invoke the above function to get our data.\n",
    "X_train, y_train, X_val, y_val, X_test, y_test, X_dev, y_dev = get_CIFAR10_data()\n",
    "print('Train data shape: ', X_train.shape)\n",
    "print('Train labels shape: ', y_train.shape)\n",
    "print('Validation data shape: ', X_val.shape)\n",
    "print('Validation labels shape: ', y_val.shape)\n",
    "print('Test data shape: ', X_test.shape)\n",
    "print('Test labels shape: ', y_test.shape)\n",
    "print('dev data shape: ', X_dev.shape)\n",
    "print('dev labels shape: ', y_dev.shape)"
   ]
  },
  {
   "cell_type": "code",
   "execution_count": 4,
   "metadata": {},
   "outputs": [],
   "source": [
    "# Create one-hot vectors for label\n",
    "num_class = 10\n",
    "y_train_oh = np.zeros((y_train.shape[0], 10))\n",
    "y_train_oh[np.arange(y_train.shape[0]), y_train] = 1\n",
    "\n",
    "y_val_oh = np.zeros((y_val.shape[0], 10))\n",
    "y_val_oh[np.arange(y_val.shape[0]), y_val] = 1\n",
    "\n",
    "y_test_oh = np.zeros((y_test.shape[0], 10))\n",
    "y_test_oh[np.arange(y_test.shape[0]), y_test] = 1\n",
    "\n",
    "y_dev_oh = np.zeros((y_dev.shape[0], 10))\n",
    "y_dev_oh[np.arange(y_dev.shape[0]), y_dev] = 1"
   ]
  },
  {
   "cell_type": "markdown",
   "metadata": {},
   "source": [
    "# Regression as classifier\n",
    "The most simple and straightforward approach to learn a classifier is to map the input data (raw image values) to class label (one-hot vector). The loss function is defined as following: \n",
    "$$\\mathcal{L}=\\frac{1}{n}\\|\\mathbf{X}\\mathbf{W}-\\mathbf{y}\\|_F^2\\qquad\\qquad(1)$$\n",
    "Where:\n",
    "* $\\mathbf{W}\\in \\mathbb{R}^{(d+1)\\times C}$: Classifier weight\n",
    "* $\\mathbf{X}\\in \\mathbb{R}^{n\\times (d+1)}$: Dataset\n",
    "* $\\mathbf{y}\\in \\mathbb{R}^{n\\times C}$: Class label (one-hot vector)"
   ]
  },
  {
   "cell_type": "markdown",
   "metadata": {},
   "source": [
    "# Optimization\n",
    "Given the loss function (1), the next problem is how to solve the weight $\\mathbf{W}$. We now discuss 2 approaches: \n",
    " * Random search\n",
    " * Closed-form solution\n",
    "\n",
    "## Random search"
   ]
  },
  {
   "cell_type": "code",
   "execution_count": 5,
   "metadata": {
    "scrolled": true
   },
   "outputs": [
    {
     "name": "stdout",
     "output_type": "stream",
     "text": [
      "in attempt 0 the loss was 35.857876, best 35.857876\n",
      "in attempt 1 the loss was 33.841500, best 33.841500\n",
      "in attempt 2 the loss was 32.909777, best 32.909777\n",
      "in attempt 3 the loss was 33.155925, best 32.909777\n",
      "in attempt 4 the loss was 34.667647, best 32.909777\n",
      "in attempt 5 the loss was 33.923541, best 32.909777\n",
      "in attempt 6 the loss was 35.603279, best 32.909777\n",
      "in attempt 7 the loss was 34.082325, best 32.909777\n",
      "in attempt 8 the loss was 34.257532, best 32.909777\n",
      "in attempt 9 the loss was 32.323811, best 32.323811\n",
      "in attempt 10 the loss was 32.525131, best 32.323811\n",
      "in attempt 11 the loss was 32.374629, best 32.323811\n",
      "in attempt 12 the loss was 33.156819, best 32.323811\n",
      "in attempt 13 the loss was 31.891332, best 31.891332\n",
      "in attempt 14 the loss was 31.389712, best 31.389712\n",
      "in attempt 15 the loss was 34.385854, best 31.389712\n",
      "in attempt 16 the loss was 32.726209, best 31.389712\n",
      "in attempt 17 the loss was 35.057296, best 31.389712\n",
      "in attempt 18 the loss was 32.572283, best 31.389712\n",
      "in attempt 19 the loss was 36.618756, best 31.389712\n",
      "in attempt 20 the loss was 34.386428, best 31.389712\n",
      "in attempt 21 the loss was 34.116162, best 31.389712\n",
      "in attempt 22 the loss was 34.020648, best 31.389712\n",
      "in attempt 23 the loss was 32.963968, best 31.389712\n",
      "in attempt 24 the loss was 32.691945, best 31.389712\n",
      "in attempt 25 the loss was 34.743231, best 31.389712\n",
      "in attempt 26 the loss was 33.403754, best 31.389712\n",
      "in attempt 27 the loss was 34.616214, best 31.389712\n",
      "in attempt 28 the loss was 32.922379, best 31.389712\n",
      "in attempt 29 the loss was 37.203236, best 31.389712\n",
      "in attempt 30 the loss was 35.450136, best 31.389712\n",
      "in attempt 31 the loss was 33.980762, best 31.389712\n",
      "in attempt 32 the loss was 32.833618, best 31.389712\n",
      "in attempt 33 the loss was 33.094876, best 31.389712\n",
      "in attempt 34 the loss was 33.389870, best 31.389712\n",
      "in attempt 35 the loss was 34.260727, best 31.389712\n",
      "in attempt 36 the loss was 34.862762, best 31.389712\n",
      "in attempt 37 the loss was 34.311451, best 31.389712\n",
      "in attempt 38 the loss was 33.281984, best 31.389712\n",
      "in attempt 39 the loss was 30.462283, best 30.462283\n",
      "in attempt 40 the loss was 34.501821, best 30.462283\n",
      "in attempt 41 the loss was 33.239037, best 30.462283\n",
      "in attempt 42 the loss was 31.769433, best 30.462283\n",
      "in attempt 43 the loss was 31.727719, best 30.462283\n",
      "in attempt 44 the loss was 36.830146, best 30.462283\n",
      "in attempt 45 the loss was 35.450859, best 30.462283\n",
      "in attempt 46 the loss was 34.887996, best 30.462283\n",
      "in attempt 47 the loss was 33.372263, best 30.462283\n",
      "in attempt 48 the loss was 34.485957, best 30.462283\n",
      "in attempt 49 the loss was 34.713726, best 30.462283\n",
      "in attempt 50 the loss was 34.518696, best 30.462283\n",
      "in attempt 51 the loss was 32.189002, best 30.462283\n",
      "in attempt 52 the loss was 34.195888, best 30.462283\n",
      "in attempt 53 the loss was 33.543416, best 30.462283\n",
      "in attempt 54 the loss was 34.985962, best 30.462283\n",
      "in attempt 55 the loss was 33.771118, best 30.462283\n",
      "in attempt 56 the loss was 34.773957, best 30.462283\n",
      "in attempt 57 the loss was 32.946366, best 30.462283\n",
      "in attempt 58 the loss was 35.551315, best 30.462283\n",
      "in attempt 59 the loss was 31.498131, best 30.462283\n",
      "in attempt 60 the loss was 34.365697, best 30.462283\n",
      "in attempt 61 the loss was 34.409575, best 30.462283\n",
      "in attempt 62 the loss was 32.106537, best 30.462283\n",
      "in attempt 63 the loss was 35.173392, best 30.462283\n",
      "in attempt 64 the loss was 32.627333, best 30.462283\n",
      "in attempt 65 the loss was 33.464023, best 30.462283\n",
      "in attempt 66 the loss was 35.084039, best 30.462283\n",
      "in attempt 67 the loss was 33.015739, best 30.462283\n",
      "in attempt 68 the loss was 33.057042, best 30.462283\n",
      "in attempt 69 the loss was 31.387777, best 30.462283\n",
      "in attempt 70 the loss was 32.575181, best 30.462283\n",
      "in attempt 71 the loss was 33.544084, best 30.462283\n",
      "in attempt 72 the loss was 32.945301, best 30.462283\n",
      "in attempt 73 the loss was 32.151666, best 30.462283\n",
      "in attempt 74 the loss was 36.700628, best 30.462283\n",
      "in attempt 75 the loss was 33.721480, best 30.462283\n",
      "in attempt 76 the loss was 35.556866, best 30.462283\n",
      "in attempt 77 the loss was 35.961566, best 30.462283\n",
      "in attempt 78 the loss was 33.475303, best 30.462283\n",
      "in attempt 79 the loss was 34.306282, best 30.462283\n",
      "in attempt 80 the loss was 33.286594, best 30.462283\n",
      "in attempt 81 the loss was 34.929177, best 30.462283\n",
      "in attempt 82 the loss was 34.272598, best 30.462283\n",
      "in attempt 83 the loss was 32.280593, best 30.462283\n",
      "in attempt 84 the loss was 31.852103, best 30.462283\n",
      "in attempt 85 the loss was 33.282285, best 30.462283\n",
      "in attempt 86 the loss was 33.906365, best 30.462283\n",
      "in attempt 87 the loss was 33.152570, best 30.462283\n",
      "in attempt 88 the loss was 33.895116, best 30.462283\n",
      "in attempt 89 the loss was 33.872627, best 30.462283\n",
      "in attempt 90 the loss was 32.754321, best 30.462283\n",
      "in attempt 91 the loss was 35.686439, best 30.462283\n",
      "in attempt 92 the loss was 35.866899, best 30.462283\n",
      "in attempt 93 the loss was 33.788973, best 30.462283\n",
      "in attempt 94 the loss was 34.275200, best 30.462283\n",
      "in attempt 95 the loss was 30.978253, best 30.462283\n",
      "in attempt 96 the loss was 32.072896, best 30.462283\n",
      "in attempt 97 the loss was 34.862421, best 30.462283\n",
      "in attempt 98 the loss was 32.398479, best 30.462283\n",
      "in attempt 99 the loss was 32.053679, best 30.462283\n"
     ]
    }
   ],
   "source": [
    "bestloss = float('inf')\n",
    "for num in range(100):\n",
    "    W = np.random.randn(3073, 10) * 0.0001\n",
    "    loss = np.linalg.norm(X_dev.dot(W) - y_dev_oh)\n",
    "    if (loss < bestloss):\n",
    "        bestloss = loss\n",
    "        bestW = W\n",
    "    print('in attempt %d the loss was %f, best %f' % (num, loss, bestloss))"
   ]
  },
  {
   "cell_type": "code",
   "execution_count": 6,
   "metadata": {},
   "outputs": [
    {
     "name": "stdout",
     "output_type": "stream",
     "text": [
      "Accuracy on train set:  7.6\n",
      "Accuracy on test set:  7.8\n"
     ]
    }
   ],
   "source": [
    "# How bestW perform:\n",
    "print('Accuracy on train set: ', np.sum(np.argmin(np.abs(1 - X_dev.dot(W)), axis=1) == y_dev).astype(np.float32)/y_dev.shape[0]*100)\n",
    "print('Accuracy on test set: ', np.sum(np.argmin(np.abs(1 - X_test.dot(W)), axis=1) == y_test).astype(np.float32)/y_test.shape[0]*100)"
   ]
  },
  {
   "cell_type": "markdown",
   "metadata": {},
   "source": [
    "You can clearly see that the performance is very low, almost at the random level."
   ]
  },
  {
   "cell_type": "markdown",
   "metadata": {},
   "source": [
    "## Closed-form solution\n",
    "The closed-form solution is achieved by:\n",
    "$$\\frac{\\partial\\mathcal{L}}{\\partial \\mathbf{W}}=\\frac{2}{n}\\mathbf{X}^T(\\mathbf{X}\\mathbf{W}-\\mathbf{y})=0$$\n",
    "\n",
    "$$\\Leftrightarrow\\mathbf{W}^\\ast=(\\mathbf{X}^T\\mathbf{X})^{-1}\\mathbf{X}^T\\mathbf{y}$$"
   ]
  },
  {
   "cell_type": "code",
   "execution_count": 7,
   "metadata": {},
   "outputs": [],
   "source": [
    "################################################################################\n",
    "# TODO:                                                                        #\n",
    "# Implement the closed-form solution of the weight W.                          #\n",
    "################################################################################\n",
    "W = np.linalg.inv(X_train.T.dot(X_train)).dot(X_train.T).dot(y_train_oh)\n",
    "pass\n",
    "################################################################################\n",
    "#                              END OF YOUR CODE                                #\n",
    "################################################################################"
   ]
  },
  {
   "cell_type": "code",
   "execution_count": 8,
   "metadata": {},
   "outputs": [
    {
     "name": "stdout",
     "output_type": "stream",
     "text": [
      "Train set accuracy:  51.163265306122454\n",
      "Test set accuracy:  36.199999999999996\n"
     ]
    }
   ],
   "source": [
    "# Check accuracy:\n",
    "print('Train set accuracy: ', np.sum(np.argmin(np.abs(1 - X_train.dot(W)), axis=1) == y_train).astype(np.float32)/y_train.shape[0]*100)\n",
    "print('Test set accuracy: ', np.sum(np.argmin(np.abs(1 - X_test.dot(W)), axis=1) == y_test).astype(np.float32)/y_test.shape[0]*100)"
   ]
  },
  {
   "cell_type": "markdown",
   "metadata": {},
   "source": [
    "Now, you can see that the performance is much better."
   ]
  },
  {
   "cell_type": "markdown",
   "metadata": {},
   "source": [
    "## Regularization\n",
    "A simple way to improve performance is to include the L2-regularization penalty.\n",
    "$$\\mathcal{L}=\\frac{1}{n}\\|\\mathbf{X}\\mathbf{W}-\\mathbf{y}\\|_F^2 +\\lambda \\|\\mathbf{W}\\|_F^2 \\qquad\\qquad(2)$$\n",
    "The closed-form solution now is: \n",
    "$$\\Leftrightarrow\\mathbf{W}^\\ast=(\\mathbf{X}^T\\mathbf{X}+\\lambda n\\mathbf{I})^{-1}\\mathbf{X}^T\\mathbf{y}$$"
   ]
  },
  {
   "cell_type": "code",
   "execution_count": 9,
   "metadata": {},
   "outputs": [],
   "source": [
    "# try several values of lambda to see how it helps:\n",
    "lambdas = [0.01, 0.1, 1, 10, 100, 1000, 10000, 100000]\n",
    "train_acc = np.zeros((len(lambdas)))\n",
    "test_acc = np.zeros((len(lambdas)))\n",
    "for i in range(len(lambdas)):\n",
    "    l = lambdas[i]\n",
    "    n,d = X_train.shape[0], X_train.shape[1]\n",
    "    ################################################################################\n",
    "    # TODO:                                                                        #\n",
    "    # Implement the closed-form solution of the weight W with regularization.      #\n",
    "    ################################################################################\n",
    "    W = np.linalg.inv(X_train.T.dot(X_train)+l*n*np.identity(n=d)).dot(X_train.T).dot(y_train_oh)\n",
    "    pass\n",
    "    ################################################################################\n",
    "    #                              END OF YOUR CODE                                #\n",
    "    ################################################################################\n",
    "    train_acc[i] = np.sum(np.argmin(np.abs(1 - X_train.dot(W)), axis=1) == y_train).astype(np.float32)/y_train.shape[0]*100\n",
    "    test_acc[i]  = np.sum(np.argmin(np.abs(1 - X_test.dot(W)), axis=1) == y_test).astype(np.float32)/y_test.shape[0]*100"
   ]
  },
  {
   "cell_type": "code",
   "execution_count": 10,
   "metadata": {},
   "outputs": [
    {
     "data": {
      "image/png": "[encoded data removed]",
      "text/plain": [
       "<Figure size 432x288 with 1 Axes>"
      ]
     },
     "metadata": {
      "needs_background": "light"
     },
     "output_type": "display_data"
    }
   ],
   "source": [
    "plt.semilogx(lambdas, train_acc, 'r', label=\"Training accuracy\")\n",
    "plt.semilogx(lambdas, test_acc, 'g', label=\"Testing accuracy\")\n",
    "\n",
    "plt.legend()\n",
    "plt.grid(True)\n",
    "plt.show()"
   ]
  },
  {
   "cell_type": "markdown",
   "metadata": {},
   "source": [
    "**Question:** Try to explain why the performances on the training and test set have such behaviors as we change the value of $\\lambda$."
   ]
  },
  {
   "cell_type": "markdown",
   "metadata": {},
   "source": [
    "**Your answer:** The regularization parameter compensates for overfitting by preventing the weights from defaulting towards values learnt by the training examples. As the regularization parameter increases closer towards the optimal $\\lambda$ value, the test accuracy increases while beyond the optimal $\\lambda$ value, the test accuracy decreases as the weights can no longer capture the underlying relationships between the features and label with too high a regularization penalty."
   ]
  },
  {
   "cell_type": "markdown",
   "metadata": {},
   "source": [
    "## Softmax Classifier\n",
    "\n",
    "The predicted probability for the $j$-th class given a sample vector $x$ and a weight $W$ is:\n",
    "\n",
    "$$\\displaystyle{P(y=j\\mid x)=\\frac{e^{-xw_j}}{\\sum\\limits_{c=1}^{C}e^{-xw_c}}}$$ \n",
    "\n",
    "![softmax](imgs/softmax.png \"Example of Softmax\")\n",
    "\n",
    "Your code for this section will all be written inside **classifiers/softmax.py**. \n"
   ]
  },
  {
   "cell_type": "code",
   "execution_count": 11,
   "metadata": {
    "scrolled": true
   },
   "outputs": [
    {
     "name": "stdout",
     "output_type": "stream",
     "text": [
      "loss: 2.356457\n",
      "sanity check: 2.302585\n"
     ]
    }
   ],
   "source": [
    "# First implement the naive softmax loss function with nested loops.\n",
    "# Open the file classifiers/softmax.py and implement the\n",
    "# softmax_loss_naive function.\n",
    "\n",
    "from classifiers.softmax import softmax_loss_naive\n",
    "import time\n",
    "\n",
    "# Generate a random softmax weight matrix and use it to compute the loss.\n",
    "W = np.random.randn(3073, 10) * 0.0001\n",
    "loss, grad = softmax_loss_naive(W, X_dev, y_dev, 0.0)\n",
    "\n",
    "# As a rough sanity check, our loss should be something close to -log(0.1).\n",
    "print('loss: %f' % loss)\n",
    "print('sanity check: %f' % (-np.log(0.1)))"
   ]
  },
  {
   "cell_type": "markdown",
   "metadata": {},
   "source": [
    "**Question:** Why do we expect our loss to be close to -log(0.1)? Explain briefly.**"
   ]
  },
  {
   "cell_type": "markdown",
   "metadata": {},
   "source": [
    "**Your answer:** Since the -log function is applied to only the ground-truth class and there are 10 classes with the probability of selecting the ground-truth class being 0.1, the loss for the random search with softmax classifier is as such."
   ]
  },
  {
   "cell_type": "markdown",
   "metadata": {},
   "source": [
    "# Optimization\n",
    "\n",
    "\n",
    "## Random search"
   ]
  },
  {
   "cell_type": "code",
   "execution_count": 12,
   "metadata": {},
   "outputs": [
    {
     "name": "stdout",
     "output_type": "stream",
     "text": [
      "in attempt 0 the loss was 2.356695, best 2.356695\n",
      "in attempt 1 the loss was 2.388258, best 2.356695\n",
      "in attempt 2 the loss was 2.338347, best 2.338347\n",
      "in attempt 3 the loss was 2.295796, best 2.295796\n",
      "in attempt 4 the loss was 2.322174, best 2.295796\n",
      "in attempt 5 the loss was 2.342775, best 2.295796\n",
      "in attempt 6 the loss was 2.394173, best 2.295796\n",
      "in attempt 7 the loss was 2.383861, best 2.295796\n",
      "in attempt 8 the loss was 2.432636, best 2.295796\n",
      "in attempt 9 the loss was 2.391070, best 2.295796\n",
      "in attempt 10 the loss was 2.335423, best 2.295796\n",
      "in attempt 11 the loss was 2.392268, best 2.295796\n",
      "in attempt 12 the loss was 2.402090, best 2.295796\n",
      "in attempt 13 the loss was 2.348661, best 2.295796\n",
      "in attempt 14 the loss was 2.368221, best 2.295796\n",
      "in attempt 15 the loss was 2.296265, best 2.295796\n",
      "in attempt 16 the loss was 2.418261, best 2.295796\n",
      "in attempt 17 the loss was 2.344572, best 2.295796\n",
      "in attempt 18 the loss was 2.379356, best 2.295796\n",
      "in attempt 19 the loss was 2.363590, best 2.295796\n",
      "in attempt 20 the loss was 2.391411, best 2.295796\n",
      "in attempt 21 the loss was 2.366218, best 2.295796\n",
      "in attempt 22 the loss was 2.351282, best 2.295796\n",
      "in attempt 23 the loss was 2.403631, best 2.295796\n",
      "in attempt 24 the loss was 2.338375, best 2.295796\n",
      "in attempt 25 the loss was 2.355782, best 2.295796\n",
      "in attempt 26 the loss was 2.442643, best 2.295796\n",
      "in attempt 27 the loss was 2.406193, best 2.295796\n",
      "in attempt 28 the loss was 2.311097, best 2.295796\n",
      "in attempt 29 the loss was 2.407350, best 2.295796\n",
      "in attempt 30 the loss was 2.352556, best 2.295796\n",
      "in attempt 31 the loss was 2.409188, best 2.295796\n",
      "in attempt 32 the loss was 2.337803, best 2.295796\n",
      "in attempt 33 the loss was 2.343368, best 2.295796\n",
      "in attempt 34 the loss was 2.330619, best 2.295796\n",
      "in attempt 35 the loss was 2.395697, best 2.295796\n",
      "in attempt 36 the loss was 2.350887, best 2.295796\n",
      "in attempt 37 the loss was 2.402171, best 2.295796\n",
      "in attempt 38 the loss was 2.366287, best 2.295796\n",
      "in attempt 39 the loss was 2.357272, best 2.295796\n",
      "in attempt 40 the loss was 2.391580, best 2.295796\n",
      "in attempt 41 the loss was 2.311494, best 2.295796\n",
      "in attempt 42 the loss was 2.403645, best 2.295796\n",
      "in attempt 43 the loss was 2.331003, best 2.295796\n",
      "in attempt 44 the loss was 2.376974, best 2.295796\n",
      "in attempt 45 the loss was 2.335587, best 2.295796\n",
      "in attempt 46 the loss was 2.403003, best 2.295796\n",
      "in attempt 47 the loss was 2.400432, best 2.295796\n",
      "in attempt 48 the loss was 2.326476, best 2.295796\n",
      "in attempt 49 the loss was 2.347026, best 2.295796\n",
      "in attempt 50 the loss was 2.390378, best 2.295796\n",
      "in attempt 51 the loss was 2.362685, best 2.295796\n",
      "in attempt 52 the loss was 2.387424, best 2.295796\n",
      "in attempt 53 the loss was 2.388086, best 2.295796\n",
      "in attempt 54 the loss was 2.316257, best 2.295796\n",
      "in attempt 55 the loss was 2.313446, best 2.295796\n",
      "in attempt 56 the loss was 2.337574, best 2.295796\n",
      "in attempt 57 the loss was 2.405696, best 2.295796\n",
      "in attempt 58 the loss was 2.329859, best 2.295796\n",
      "in attempt 59 the loss was 2.399258, best 2.295796\n",
      "in attempt 60 the loss was 2.376918, best 2.295796\n",
      "in attempt 61 the loss was 2.380899, best 2.295796\n",
      "in attempt 62 the loss was 2.303682, best 2.295796\n",
      "in attempt 63 the loss was 2.426071, best 2.295796\n",
      "in attempt 64 the loss was 2.294123, best 2.294123\n",
      "in attempt 65 the loss was 2.338544, best 2.294123\n",
      "in attempt 66 the loss was 2.375722, best 2.294123\n",
      "in attempt 67 the loss was 2.363826, best 2.294123\n",
      "in attempt 68 the loss was 2.330474, best 2.294123\n",
      "in attempt 69 the loss was 2.318565, best 2.294123\n",
      "in attempt 70 the loss was 2.421599, best 2.294123\n",
      "in attempt 71 the loss was 2.370421, best 2.294123\n",
      "in attempt 72 the loss was 2.345010, best 2.294123\n",
      "in attempt 73 the loss was 2.382714, best 2.294123\n",
      "in attempt 74 the loss was 2.379695, best 2.294123\n",
      "in attempt 75 the loss was 2.368441, best 2.294123\n",
      "in attempt 76 the loss was 2.313989, best 2.294123\n",
      "in attempt 77 the loss was 2.368075, best 2.294123\n",
      "in attempt 78 the loss was 2.346212, best 2.294123\n",
      "in attempt 79 the loss was 2.379361, best 2.294123\n",
      "in attempt 80 the loss was 2.398403, best 2.294123\n",
      "in attempt 81 the loss was 2.350006, best 2.294123\n",
      "in attempt 82 the loss was 2.314380, best 2.294123\n",
      "in attempt 83 the loss was 2.383528, best 2.294123\n",
      "in attempt 84 the loss was 2.393437, best 2.294123\n",
      "in attempt 85 the loss was 2.280818, best 2.280818\n",
      "in attempt 86 the loss was 2.355176, best 2.280818\n",
      "in attempt 87 the loss was 2.332720, best 2.280818\n",
      "in attempt 88 the loss was 2.351170, best 2.280818\n",
      "in attempt 89 the loss was 2.324579, best 2.280818\n",
      "in attempt 90 the loss was 2.396828, best 2.280818\n",
      "in attempt 91 the loss was 2.375347, best 2.280818\n",
      "in attempt 92 the loss was 2.382838, best 2.280818\n",
      "in attempt 93 the loss was 2.383692, best 2.280818\n",
      "in attempt 94 the loss was 2.331890, best 2.280818\n",
      "in attempt 95 the loss was 2.325878, best 2.280818\n",
      "in attempt 96 the loss was 2.388617, best 2.280818\n",
      "in attempt 97 the loss was 2.332858, best 2.280818\n",
      "in attempt 98 the loss was 2.383738, best 2.280818\n",
      "in attempt 99 the loss was 2.385346, best 2.280818\n"
     ]
    }
   ],
   "source": [
    "bestloss = float('inf')\n",
    "for num in range(100):\n",
    "    W = np.random.randn(3073, 10) * 0.0001\n",
    "    loss, _ = softmax_loss_naive(W, X_dev, y_dev, 0.0)\n",
    "    if (loss < bestloss):\n",
    "        bestloss = loss\n",
    "        bestW = W\n",
    "    print('in attempt %d the loss was %f, best %f' % (num, loss, bestloss))"
   ]
  },
  {
   "cell_type": "code",
   "execution_count": 13,
   "metadata": {},
   "outputs": [
    {
     "name": "stdout",
     "output_type": "stream",
     "text": [
      "Accuracy on train set 0.134306\n",
      "Accuracy on test set 0.123000\n"
     ]
    }
   ],
   "source": [
    "# How bestW perform on trainset\n",
    "scores = X_train.dot(bestW)\n",
    "y_pred = np.argmax(scores, axis=1)\n",
    "print('Accuracy on train set %f' % np.mean(y_pred == y_train))\n",
    "\n",
    "# evaluate performance of test set\n",
    "scores = X_test.dot(bestW)\n",
    "y_pred = np.argmax(scores, axis=1)\n",
    "print('Accuracy on test set %f' % np.mean(y_pred == y_test))"
   ]
  },
  {
   "cell_type": "markdown",
   "metadata": {},
   "source": [
    "Compare the performance when using random search with *regression classifier* and *softmax classifier*. You can see how much useful the softmax classifier is."
   ]
  },
  {
   "cell_type": "markdown",
   "metadata": {},
   "source": [
    "## Stochastic Gradient descent\n",
    "Even though it is possible to achieve closed-form solution with softmax classifier, it would be more complicated. In fact, we could achieve very good results with gradient descent approach. Additionally, in case of very large dataset, it is impossible to load the whole dataset into the memory. Gradient descent can help to optimize the loss function in batch. \n",
    "\n",
    "$$\\mathbf{W}^{t+1}=\\mathbf{W}^{t}−\\alpha \\frac{\\partial\\mathcal{L(\\mathbf{x};\\mathbf{W}^{t})}}{\\partial\\mathbf{W}^{t}}$$\n",
    "\n",
    "Where $\\alpha$ is the learning rate, $\\mathcal{L}$ is a loss function, and $\\mathbf{x}$ is a batch of training dataset."
   ]
  },
  {
   "cell_type": "code",
   "execution_count": 14,
   "metadata": {},
   "outputs": [
    {
     "name": "stdout",
     "output_type": "stream",
     "text": [
      "numerical: -1.811628 analytic: -1.811628, relative error: 3.068277e-08\n",
      "numerical: -0.604442 analytic: -0.604442, relative error: 2.139100e-08\n",
      "numerical: 0.055055 analytic: 0.055055, relative error: 1.060381e-06\n",
      "numerical: 4.162342 analytic: 4.162342, relative error: 2.444636e-10\n",
      "numerical: -4.757368 analytic: -4.757368, relative error: 2.939320e-09\n",
      "numerical: 2.568229 analytic: 2.568228, relative error: 2.307293e-08\n",
      "numerical: 1.193325 analytic: 1.193325, relative error: 2.753678e-09\n",
      "numerical: 1.582324 analytic: 1.582324, relative error: 1.599278e-08\n",
      "numerical: 1.702255 analytic: 1.702255, relative error: 2.157464e-08\n",
      "numerical: 3.812053 analytic: 3.812053, relative error: 1.482853e-08\n",
      "numerical: -0.639036 analytic: -0.639036, relative error: 5.714080e-08\n",
      "numerical: -4.896918 analytic: -4.896919, relative error: 4.159553e-09\n",
      "numerical: 0.706908 analytic: 0.706908, relative error: 1.528536e-09\n",
      "numerical: 0.724124 analytic: 0.724124, relative error: 3.152899e-08\n",
      "numerical: -2.192788 analytic: -2.192788, relative error: 1.354324e-08\n",
      "numerical: 1.376812 analytic: 1.376811, relative error: 4.466583e-08\n",
      "numerical: 1.126165 analytic: 1.126165, relative error: 2.812156e-08\n",
      "numerical: 0.831263 analytic: 0.831263, relative error: 2.955532e-08\n",
      "numerical: 1.011212 analytic: 1.011212, relative error: 2.706171e-08\n",
      "numerical: -0.921080 analytic: -0.921080, relative error: 2.582010e-09\n"
     ]
    }
   ],
   "source": [
    "# Complete the implementation of softmax_loss_naive and implement a (naive)\n",
    "# version of the gradient that uses nested loops.\n",
    "loss, grad = softmax_loss_naive(W, X_dev, y_dev, 0.0)\n",
    "\n",
    "# Use numeric gradient checking as a debugging tool.\n",
    "# The numeric gradient should be close to the analytic gradient.\n",
    "from gradient_check import grad_check_sparse\n",
    "f = lambda w: softmax_loss_naive(w, X_dev, y_dev, 0.0)[0]\n",
    "grad_numerical = grad_check_sparse(f, W, grad, 10)\n",
    "\n",
    "# gradient check with regularization\n",
    "loss, grad = softmax_loss_naive(W, X_dev, y_dev, 1e2)\n",
    "f = lambda w: softmax_loss_naive(w, X_dev, y_dev, 1e2)[0]\n",
    "grad_numerical = grad_check_sparse(f, W, grad, 10)"
   ]
  },
  {
   "cell_type": "code",
   "execution_count": 15,
   "metadata": {},
   "outputs": [
    {
     "name": "stdout",
     "output_type": "stream",
     "text": [
      "naive loss: 2.385346e+00 computed in 0.960162s\n",
      "vectorized loss: 2.385346e+00 computed in 0.004187s\n",
      "Loss difference: 0.000000\n",
      "Gradient difference: 0.000000\n"
     ]
    }
   ],
   "source": [
    "# Now that we have a naive implementation of the softmax loss function and its gradient,\n",
    "# implement a vectorized version in softmax_loss_vectorized.\n",
    "# The two versions should compute the same results, but the vectorized version should be\n",
    "# much faster.\n",
    "tic = time.time()\n",
    "loss_naive, grad_naive = softmax_loss_naive(W, X_dev, y_dev, 0.00001)\n",
    "toc = time.time()\n",
    "print('naive loss: %e computed in %fs' % (loss_naive, toc - tic))\n",
    "\n",
    "from classifiers.softmax import softmax_loss_vectorized\n",
    "tic = time.time()\n",
    "loss_vectorized, grad_vectorized = softmax_loss_vectorized(W, X_dev, y_dev, 0.00001)\n",
    "toc = time.time()\n",
    "print('vectorized loss: %e computed in %fs' % (loss_vectorized, toc - tic))\n",
    "\n",
    "# We use the Frobenius norm to compare the two versions\n",
    "# of the gradient.\n",
    "grad_difference = np.linalg.norm(grad_naive - grad_vectorized, ord='fro')\n",
    "print('Loss difference: %f' % np.abs(loss_naive - loss_vectorized))\n",
    "print('Gradient difference: %f' % grad_difference)"
   ]
  },
  {
   "cell_type": "code",
   "execution_count": 16,
   "metadata": {},
   "outputs": [
    {
     "name": "stdout",
     "output_type": "stream",
     "text": [
      "iteration 0 / 1500: loss 1570.370732\n",
      "iteration 100 / 1500: loss 211.442134\n",
      "iteration 200 / 1500: loss 30.082156\n",
      "iteration 300 / 1500: loss 5.911124\n",
      "iteration 400 / 1500: loss 2.636499\n",
      "iteration 500 / 1500: loss 2.242562\n",
      "iteration 600 / 1500: loss 2.090558\n",
      "iteration 700 / 1500: loss 2.147273\n",
      "iteration 800 / 1500: loss 2.148550\n",
      "iteration 900 / 1500: loss 2.111760\n",
      "iteration 1000 / 1500: loss 2.161620\n",
      "iteration 1100 / 1500: loss 2.161011\n",
      "iteration 1200 / 1500: loss 2.148199\n",
      "iteration 1300 / 1500: loss 2.133084\n",
      "iteration 1400 / 1500: loss 2.143489\n",
      "That took 6.075051s\n"
     ]
    }
   ],
   "source": [
    "from classifiers.linear_classifier import *\n",
    "\n",
    "classifier = Softmax()\n",
    "tic = time.time()\n",
    "loss_hist = classifier.train(X_train, y_train, learning_rate=1e-7, reg=5e4,\n",
    "                                  num_iters=1500, verbose=True)\n",
    "toc = time.time()\n",
    "print('That took %fs' % (toc - tic))"
   ]
  },
  {
   "cell_type": "code",
   "execution_count": 17,
   "metadata": {},
   "outputs": [
    {
     "name": "stdout",
     "output_type": "stream",
     "text": [
      "training accuracy: 0.311163\n",
      "validation accuracy: 0.329000\n"
     ]
    }
   ],
   "source": [
    "# Write the Softmax.predict function and evaluate the performance on both the\n",
    "# training and validation set\n",
    "y_train_pred = classifier.predict(X_train)\n",
    "print('training accuracy: %f' % (np.mean(y_train == y_train_pred), ))\n",
    "y_val_pred = classifier.predict(X_val)\n",
    "print('validation accuracy: %f' % (np.mean(y_val == y_val_pred), ))"
   ]
  },
  {
   "cell_type": "code",
   "execution_count": 18,
   "metadata": {},
   "outputs": [
    {
     "data": {
      "image/png": "[encoded data removed]",
      "text/plain": [
       "<Figure size 432x288 with 1 Axes>"
      ]
     },
     "metadata": {
      "needs_background": "light"
     },
     "output_type": "display_data"
    }
   ],
   "source": [
    "# A useful debugging strategy is to plot the loss as a function of\n",
    "# iteration number:\n",
    "plt.plot(loss_hist)\n",
    "plt.xlabel('Iteration number')\n",
    "plt.ylabel('Loss value')\n",
    "plt.show()"
   ]
  },
  {
   "cell_type": "code",
   "execution_count": 19,
   "metadata": {},
   "outputs": [
    {
     "name": "stdout",
     "output_type": "stream",
     "text": [
      "softmax on raw pixels final test set accuracy: 31.70\n"
     ]
    }
   ],
   "source": [
    "# evaluate on test set\n",
    "# Evaluate the best softmax on test set\n",
    "y_test_pred = classifier.predict(X_test)\n",
    "test_accuracy = np.mean(y_test == y_test_pred)\n",
    "print('softmax on raw pixels final test set accuracy: %.2f' % (100*test_accuracy, ))"
   ]
  },
  {
   "cell_type": "code",
   "execution_count": null,
   "metadata": {},
   "outputs": [],
   "source": []
  }
 ],
 "metadata": {
  "anaconda-cloud": {},
  "kernelspec": {
   "display_name": "Python 3",
   "language": "python",
   "name": "python3"
  },
  "language_info": {
   "codemirror_mode": {
    "name": "ipython",
    "version": 3
   },
   "file_extension": ".py",
   "mimetype": "text/x-python",
   "name": "python",
   "nbconvert_exporter": "python",
   "pygments_lexer": "ipython3",
   "version": "3.6.12"
  }
 },
 "nbformat": 4,
 "nbformat_minor": 1
}
