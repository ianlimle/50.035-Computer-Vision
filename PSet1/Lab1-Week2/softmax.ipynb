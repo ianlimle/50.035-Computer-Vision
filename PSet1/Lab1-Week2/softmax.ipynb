{
 "cells": [
  {
   "cell_type": "markdown",
   "metadata": {},
   "source": [
    "# Softmax exercise\n",
    "\n",
    "*Complete and hand in this completed worksheet (including its outputs and any supporting code outside of the worksheet) with your assignment submission.*\n",
    "\n",
    "In this exercise, you will:\n",
    "\n",
    "- implement a fully-vectorized **loss function** for the Softmax classifier\n",
    "- implement the fully-vectorized expression for its **analytic gradient**\n",
    "- **check your implementation** with numerical gradient\n",
    "- use a validation set to **tune the learning rate and regularization** strength\n",
    "- **optimize** the loss function with **SGD**\n",
    "- **visualize** the final learned weights\n"
   ]
  },
  {
   "cell_type": "markdown",
   "metadata": {},
   "source": [
    "**Acknowledgement: This exercise is adapted from [Stanford CS231n](http://cs231n.stanford.edu/).**"
   ]
  },
  {
   "cell_type": "code",
   "execution_count": 1,
   "metadata": {},
   "outputs": [],
   "source": [
    "import random\n",
    "import numpy as np\n",
    "from data_utils import load_CIFAR10\n",
    "import matplotlib.pyplot as plt\n",
    "\n",
    "%matplotlib inline\n",
    "plt.rcParams['figure.figsize'] = (10.0, 8.0) # set default size of plots\n",
    "plt.rcParams['image.interpolation'] = 'nearest'\n",
    "plt.rcParams['image.cmap'] = 'gray'\n",
    "\n",
    "# for auto-reloading extenrnal modules\n",
    "# see http://stackoverflow.com/questions/1907993/autoreload-of-modules-in-ipython\n",
    "%load_ext autoreload\n",
    "%autoreload 2"
   ]
  },
  {
   "cell_type": "code",
   "execution_count": 2,
   "metadata": {},
   "outputs": [],
   "source": [
    "def rel_error(out, correct_out):\n",
    "    return np.sum(abs(out - correct_out) / (abs(out) + abs(correct_out)))"
   ]
  },
  {
   "cell_type": "code",
   "execution_count": 3,
   "metadata": {},
   "outputs": [
    {
     "name": "stdout",
     "output_type": "stream",
     "text": [
      "Train data shape:  (49000, 3073)\n",
      "Train labels shape:  (49000,)\n",
      "Validation data shape:  (1000, 3073)\n",
      "Validation labels shape:  (1000,)\n",
      "Test data shape:  (1000, 3073)\n",
      "Test labels shape:  (1000,)\n",
      "dev data shape:  (500, 3073)\n",
      "dev labels shape:  (500,)\n"
     ]
    }
   ],
   "source": [
    "def get_CIFAR10_data(num_training=49000, num_validation=1000, num_test=1000, num_dev=500):\n",
    "    \"\"\"\n",
    "    Load the CIFAR-10 dataset from disk and perform preprocessing to prepare\n",
    "    it for the linear classifier. These are the same steps as we used for the\n",
    "    Softmax, but condensed to a single function.  \n",
    "    \"\"\"\n",
    "    # Load the raw CIFAR-10 data\n",
    "    cifar10_dir = 'datasets/cifar-10-batches-py'\n",
    "    X_train, y_train, X_test, y_test = load_CIFAR10(cifar10_dir)\n",
    "\n",
    "    # subsample the data\n",
    "    mask = range(num_training, num_training + num_validation)\n",
    "    X_val = X_train[mask]\n",
    "    y_val = y_train[mask]\n",
    "    mask = range(num_training)\n",
    "    X_train = X_train[mask]\n",
    "    y_train = y_train[mask]\n",
    "    mask = range(num_test)\n",
    "    X_test = X_test[mask]\n",
    "    y_test = y_test[mask]\n",
    "    \n",
    "    # # We will also make a development set, which is a small subset of\n",
    "    # the training set.\n",
    "    mask = np.random.choice(num_training, num_dev, replace=False)\n",
    "    X_dev = X_train[mask]\n",
    "    y_dev = y_train[mask]\n",
    "\n",
    "    # Preprocessing: reshape the image data into rows\n",
    "    X_train = np.reshape(X_train, (X_train.shape[0], -1))\n",
    "    X_val = np.reshape(X_val, (X_val.shape[0], -1))\n",
    "    X_test = np.reshape(X_test, (X_test.shape[0], -1))\n",
    "    X_dev = np.reshape(X_dev, (X_dev.shape[0], -1))\n",
    "\n",
    "    # Normalize the data: subtract the mean image\n",
    "    mean_image = np.mean(X_train, axis = 0)\n",
    "    X_train -= mean_image\n",
    "    X_val -= mean_image\n",
    "    X_test -= mean_image\n",
    "    X_dev -= mean_image\n",
    "\n",
    "    # add bias dimension and transform into columns\n",
    "    X_train = np.hstack([X_train, np.ones((X_train.shape[0], 1))])\n",
    "    X_val = np.hstack([X_val, np.ones((X_val.shape[0], 1))])\n",
    "    X_test = np.hstack([X_test, np.ones((X_test.shape[0], 1))])\n",
    "    X_dev = np.hstack([X_dev, np.ones((X_dev.shape[0], 1))])\n",
    "\n",
    "    return X_train, y_train, X_val, y_val, X_test, y_test, X_dev, y_dev\n",
    "\n",
    "\n",
    "# Invoke the above function to get our data.\n",
    "X_train, y_train, X_val, y_val, X_test, y_test, X_dev, y_dev = get_CIFAR10_data()\n",
    "print('Train data shape: ', X_train.shape)\n",
    "print('Train labels shape: ', y_train.shape)\n",
    "print('Validation data shape: ', X_val.shape)\n",
    "print('Validation labels shape: ', y_val.shape)\n",
    "print('Test data shape: ', X_test.shape)\n",
    "print('Test labels shape: ', y_test.shape)\n",
    "print('dev data shape: ', X_dev.shape)\n",
    "print('dev labels shape: ', y_dev.shape)"
   ]
  },
  {
   "cell_type": "code",
   "execution_count": 4,
   "metadata": {},
   "outputs": [],
   "source": [
    "# Create one-hot vectors for label\n",
    "num_class = 10\n",
    "y_train_oh = np.zeros((y_train.shape[0], 10))\n",
    "y_train_oh[np.arange(y_train.shape[0]), y_train] = 1\n",
    "\n",
    "y_val_oh = np.zeros((y_val.shape[0], 10))\n",
    "y_val_oh[np.arange(y_val.shape[0]), y_val] = 1\n",
    "\n",
    "y_test_oh = np.zeros((y_test.shape[0], 10))\n",
    "y_test_oh[np.arange(y_test.shape[0]), y_test] = 1\n",
    "\n",
    "y_dev_oh = np.zeros((y_dev.shape[0], 10))\n",
    "y_dev_oh[np.arange(y_dev.shape[0]), y_dev] = 1"
   ]
  },
  {
   "cell_type": "markdown",
   "metadata": {},
   "source": [
    "# Regression as classifier\n",
    "The most simple and straightforward approach to learn a classifier is to map the input data (raw image values) to class label (one-hot vector). The loss function is defined as following: \n",
    "$$\\mathcal{L}=\\frac{1}{n}\\|\\mathbf{X}\\mathbf{W}-\\mathbf{y}\\|_F^2\\qquad\\qquad(1)$$\n",
    "Where:\n",
    "* $\\mathbf{W}\\in \\mathbb{R}^{(d+1)\\times C}$: Classifier weight\n",
    "* $\\mathbf{X}\\in \\mathbb{R}^{n\\times (d+1)}$: Dataset\n",
    "* $\\mathbf{y}\\in \\mathbb{R}^{n\\times C}$: Class label (one-hot vector)"
   ]
  },
  {
   "cell_type": "markdown",
   "metadata": {},
   "source": [
    "# Optimization\n",
    "Given the loss function (1), the next problem is how to solve the weight $\\mathbf{W}$. We now discuss 2 approaches: \n",
    " * Random search\n",
    " * Closed-form solution\n",
    "\n",
    "## Random search"
   ]
  },
  {
   "cell_type": "code",
   "execution_count": 5,
   "metadata": {
    "scrolled": true
   },
   "outputs": [
    {
     "name": "stdout",
     "output_type": "stream",
     "text": [
      "in attempt 0 the loss was 33.504734, best 33.504734\n",
      "in attempt 1 the loss was 31.473448, best 31.473448\n",
      "in attempt 2 the loss was 34.452747, best 31.473448\n",
      "in attempt 3 the loss was 35.308900, best 31.473448\n",
      "in attempt 4 the loss was 32.814565, best 31.473448\n",
      "in attempt 5 the loss was 32.375309, best 31.473448\n",
      "in attempt 6 the loss was 32.233667, best 31.473448\n",
      "in attempt 7 the loss was 31.414975, best 31.414975\n",
      "in attempt 8 the loss was 34.122076, best 31.414975\n",
      "in attempt 9 the loss was 34.557157, best 31.414975\n",
      "in attempt 10 the loss was 34.127625, best 31.414975\n",
      "in attempt 11 the loss was 32.007724, best 31.414975\n",
      "in attempt 12 the loss was 33.169539, best 31.414975\n",
      "in attempt 13 the loss was 33.328430, best 31.414975\n",
      "in attempt 14 the loss was 30.888094, best 30.888094\n",
      "in attempt 15 the loss was 35.038900, best 30.888094\n",
      "in attempt 16 the loss was 33.999428, best 30.888094\n",
      "in attempt 17 the loss was 34.808884, best 30.888094\n",
      "in attempt 18 the loss was 35.036421, best 30.888094\n",
      "in attempt 19 the loss was 33.034581, best 30.888094\n",
      "in attempt 20 the loss was 31.443255, best 30.888094\n",
      "in attempt 21 the loss was 32.911520, best 30.888094\n",
      "in attempt 22 the loss was 31.411638, best 30.888094\n",
      "in attempt 23 the loss was 36.438333, best 30.888094\n",
      "in attempt 24 the loss was 30.253796, best 30.253796\n",
      "in attempt 25 the loss was 33.496008, best 30.253796\n",
      "in attempt 26 the loss was 36.206317, best 30.253796\n",
      "in attempt 27 the loss was 33.346531, best 30.253796\n",
      "in attempt 28 the loss was 33.123667, best 30.253796\n",
      "in attempt 29 the loss was 34.684270, best 30.253796\n",
      "in attempt 30 the loss was 34.689329, best 30.253796\n",
      "in attempt 31 the loss was 36.002495, best 30.253796\n",
      "in attempt 32 the loss was 33.598522, best 30.253796\n",
      "in attempt 33 the loss was 35.348267, best 30.253796\n",
      "in attempt 34 the loss was 31.532832, best 30.253796\n",
      "in attempt 35 the loss was 32.641863, best 30.253796\n",
      "in attempt 36 the loss was 34.961570, best 30.253796\n",
      "in attempt 37 the loss was 32.386654, best 30.253796\n",
      "in attempt 38 the loss was 33.054238, best 30.253796\n",
      "in attempt 39 the loss was 34.059123, best 30.253796\n",
      "in attempt 40 the loss was 33.104792, best 30.253796\n",
      "in attempt 41 the loss was 31.445373, best 30.253796\n",
      "in attempt 42 the loss was 34.884236, best 30.253796\n",
      "in attempt 43 the loss was 35.703731, best 30.253796\n",
      "in attempt 44 the loss was 32.526466, best 30.253796\n",
      "in attempt 45 the loss was 31.975591, best 30.253796\n",
      "in attempt 46 the loss was 32.639634, best 30.253796\n",
      "in attempt 47 the loss was 32.794967, best 30.253796\n",
      "in attempt 48 the loss was 31.823656, best 30.253796\n",
      "in attempt 49 the loss was 34.129271, best 30.253796\n",
      "in attempt 50 the loss was 32.715724, best 30.253796\n",
      "in attempt 51 the loss was 32.941373, best 30.253796\n",
      "in attempt 52 the loss was 33.416514, best 30.253796\n",
      "in attempt 53 the loss was 31.724710, best 30.253796\n",
      "in attempt 54 the loss was 35.545117, best 30.253796\n",
      "in attempt 55 the loss was 34.817220, best 30.253796\n",
      "in attempt 56 the loss was 30.717216, best 30.253796\n",
      "in attempt 57 the loss was 31.858434, best 30.253796\n",
      "in attempt 58 the loss was 37.200817, best 30.253796\n",
      "in attempt 59 the loss was 34.766125, best 30.253796\n",
      "in attempt 60 the loss was 31.128839, best 30.253796\n",
      "in attempt 61 the loss was 33.241604, best 30.253796\n",
      "in attempt 62 the loss was 34.193418, best 30.253796\n",
      "in attempt 63 the loss was 36.388280, best 30.253796\n",
      "in attempt 64 the loss was 33.107938, best 30.253796\n",
      "in attempt 65 the loss was 33.744258, best 30.253796\n",
      "in attempt 66 the loss was 31.389148, best 30.253796\n",
      "in attempt 67 the loss was 35.559450, best 30.253796\n",
      "in attempt 68 the loss was 33.744850, best 30.253796\n",
      "in attempt 69 the loss was 32.921855, best 30.253796\n",
      "in attempt 70 the loss was 32.350620, best 30.253796\n",
      "in attempt 71 the loss was 32.823323, best 30.253796\n",
      "in attempt 72 the loss was 31.953512, best 30.253796\n",
      "in attempt 73 the loss was 33.941776, best 30.253796\n",
      "in attempt 74 the loss was 33.679404, best 30.253796\n",
      "in attempt 75 the loss was 33.174386, best 30.253796\n",
      "in attempt 76 the loss was 32.647692, best 30.253796\n",
      "in attempt 77 the loss was 32.668746, best 30.253796\n",
      "in attempt 78 the loss was 35.920122, best 30.253796\n",
      "in attempt 79 the loss was 34.944585, best 30.253796\n",
      "in attempt 80 the loss was 33.290314, best 30.253796\n",
      "in attempt 81 the loss was 31.289135, best 30.253796\n",
      "in attempt 82 the loss was 30.826637, best 30.253796\n",
      "in attempt 83 the loss was 30.366220, best 30.253796\n",
      "in attempt 84 the loss was 33.657728, best 30.253796\n",
      "in attempt 85 the loss was 34.777598, best 30.253796\n",
      "in attempt 86 the loss was 34.067128, best 30.253796\n",
      "in attempt 87 the loss was 33.919754, best 30.253796\n",
      "in attempt 88 the loss was 32.168158, best 30.253796\n",
      "in attempt 89 the loss was 32.026963, best 30.253796\n",
      "in attempt 90 the loss was 32.301967, best 30.253796\n",
      "in attempt 91 the loss was 33.612850, best 30.253796\n",
      "in attempt 92 the loss was 33.608182, best 30.253796\n",
      "in attempt 93 the loss was 31.665343, best 30.253796\n",
      "in attempt 94 the loss was 32.082157, best 30.253796\n",
      "in attempt 95 the loss was 32.481889, best 30.253796\n",
      "in attempt 96 the loss was 35.804568, best 30.253796\n",
      "in attempt 97 the loss was 34.385668, best 30.253796\n",
      "in attempt 98 the loss was 33.393992, best 30.253796\n",
      "in attempt 99 the loss was 33.791647, best 30.253796\n"
     ]
    }
   ],
   "source": [
    "bestloss = float('inf')\n",
    "for num in range(100):\n",
    "    W = np.random.randn(3073, 10) * 0.0001\n",
    "    loss = np.linalg.norm(X_dev.dot(W) - y_dev_oh)\n",
    "    if (loss < bestloss):\n",
    "        bestloss = loss\n",
    "        bestW = W\n",
    "    print('in attempt %d the loss was %f, best %f' % (num, loss, bestloss))"
   ]
  },
  {
   "cell_type": "code",
   "execution_count": 6,
   "metadata": {},
   "outputs": [
    {
     "name": "stdout",
     "output_type": "stream",
     "text": [
      "Accuracy on train set:  5.6000000000000005\n",
      "Accuracy on test set:  10.299999999999999\n"
     ]
    }
   ],
   "source": [
    "# How bestW perform:\n",
    "print('Accuracy on train set: ', np.sum(np.argmin(np.abs(1 - X_dev.dot(W)), axis=1) == y_dev).astype(np.float32)/y_dev.shape[0]*100)\n",
    "print('Accuracy on test set: ', np.sum(np.argmin(np.abs(1 - X_test.dot(W)), axis=1) == y_test).astype(np.float32)/y_test.shape[0]*100)"
   ]
  },
  {
   "cell_type": "markdown",
   "metadata": {},
   "source": [
    "You can clearly see that the performance is very low, almost at the random level."
   ]
  },
  {
   "cell_type": "markdown",
   "metadata": {},
   "source": [
    "## Closed-form solution\n",
    "The closed-form solution is achieved by:\n",
    "$$\\frac{\\partial\\mathcal{L}}{\\partial \\mathbf{W}}=\\frac{2}{n}\\mathbf{X}^T(\\mathbf{X}\\mathbf{W}-\\mathbf{y})=0$$\n",
    "\n",
    "$$\\Leftrightarrow\\mathbf{W}^\\ast=(\\mathbf{X}^T\\mathbf{X})^{-1}\\mathbf{X}^T\\mathbf{y}$$"
   ]
  },
  {
   "cell_type": "code",
   "execution_count": 7,
   "metadata": {},
   "outputs": [],
   "source": [
    "################################################################################\n",
    "# TODO:                                                                        #\n",
    "# Implement the closed-form solution of the weight W.                          #\n",
    "################################################################################\n",
    "W = np.linalg.inv(X_train.T.dot(X_train)).dot(X_train.T).dot(y_train_oh)\n",
    "pass\n",
    "################################################################################\n",
    "#                              END OF YOUR CODE                                #\n",
    "################################################################################"
   ]
  },
  {
   "cell_type": "code",
   "execution_count": 8,
   "metadata": {},
   "outputs": [
    {
     "name": "stdout",
     "output_type": "stream",
     "text": [
      "Train set accuracy:  51.163265306122454\n",
      "Test set accuracy:  36.199999999999996\n"
     ]
    }
   ],
   "source": [
    "# Check accuracy:\n",
    "print('Train set accuracy: ', np.sum(np.argmin(np.abs(1 - X_train.dot(W)), axis=1) == y_train).astype(np.float32)/y_train.shape[0]*100)\n",
    "print('Test set accuracy: ', np.sum(np.argmin(np.abs(1 - X_test.dot(W)), axis=1) == y_test).astype(np.float32)/y_test.shape[0]*100)"
   ]
  },
  {
   "cell_type": "markdown",
   "metadata": {},
   "source": [
    "Now, you can see that the performance is much better."
   ]
  },
  {
   "cell_type": "markdown",
   "metadata": {},
   "source": [
    "## Regularization\n",
    "A simple way to improve performance is to include the L2-regularization penalty.\n",
    "$$\\mathcal{L}=\\frac{1}{n}\\|\\mathbf{X}\\mathbf{W}-\\mathbf{y}\\|_F^2 +\\lambda \\|\\mathbf{W}\\|_F^2 \\qquad\\qquad(2)$$\n",
    "The closed-form solution now is: \n",
    "$$\\Leftrightarrow\\mathbf{W}^\\ast=(\\mathbf{X}^T\\mathbf{X}+\\lambda n\\mathbf{I})^{-1}\\mathbf{X}^T\\mathbf{y}$$"
   ]
  },
  {
   "cell_type": "code",
   "execution_count": 9,
   "metadata": {},
   "outputs": [],
   "source": [
    "# try several values of lambda to see how it helps:\n",
    "lambdas = [0.01, 0.1, 1, 10, 100, 1000, 10000, 100000]\n",
    "train_acc = np.zeros((len(lambdas)))\n",
    "test_acc = np.zeros((len(lambdas)))\n",
    "for i in range(len(lambdas)):\n",
    "    l = lambdas[i]\n",
    "    n,d = X_train.shape[0], X_train.shape[1]\n",
    "    ################################################################################\n",
    "    # TODO:                                                                        #\n",
    "    # Implement the closed-form solution of the weight W with regularization.      #\n",
    "    ################################################################################\n",
    "    W = np.linalg.inv(X_train.T.dot(X_train)+l*n*np.identity(n=d)).dot(X_train.T).dot(y_train_oh)\n",
    "    pass\n",
    "    ################################################################################\n",
    "    #                              END OF YOUR CODE                                #\n",
    "    ################################################################################\n",
    "    train_acc[i] = np.sum(np.argmin(np.abs(1 - X_train.dot(W)), axis=1) == y_train).astype(np.float32)/y_train.shape[0]*100\n",
    "    test_acc[i]  = np.sum(np.argmin(np.abs(1 - X_test.dot(W)), axis=1) == y_test).astype(np.float32)/y_test.shape[0]*100"
   ]
  },
  {
   "cell_type": "code",
   "execution_count": 10,
   "metadata": {},
   "outputs": [
    {
     "data": {
      "image/png": "[encoded data removed]",
      "text/plain": [
       "<Figure size 720x576 with 1 Axes>"
      ]
     },
     "metadata": {
      "needs_background": "light"
     },
     "output_type": "display_data"
    }
   ],
   "source": [
    "plt.semilogx(lambdas, train_acc, 'r', label=\"Training accuracy\")\n",
    "plt.semilogx(lambdas, test_acc, 'g', label=\"Testing accuracy\")\n",
    "\n",
    "plt.legend()\n",
    "plt.grid(True)\n",
    "plt.show()"
   ]
  },
  {
   "cell_type": "markdown",
   "metadata": {},
   "source": [
    "**Question:** Try to explain why the performances on the training and test set have such behaviors as we change the value of $\\lambda$."
   ]
  },
  {
   "cell_type": "markdown",
   "metadata": {},
   "source": [
    "**Your answer:** The regularization parameter compensates for overfitting by preventing the weights from defaulting towards values learnt by the training examples. As the regularization parameter increases closer towards the optimal $\\lambda$ value, the test accuracy increases while beyond the optimal $\\lambda$ value, the test accuracy decreases as the weights can no longer capture the underlying relationships between the features and label with too high a regularization penalty."
   ]
  },
  {
   "cell_type": "markdown",
   "metadata": {},
   "source": [
    "## Softmax Classifier\n",
    "\n",
    "The predicted probability for the $j$-th class given a sample vector $x$ and a weight $W$ is:\n",
    "\n",
    "$$\\displaystyle{P(y=j\\mid x)=\\frac{e^{-xw_j}}{\\sum\\limits_{c=1}^{C}e^{-xw_c}}}$$ \n",
    "\n",
    "![softmax](imgs/softmax.png \"Example of Softmax\")\n",
    "\n",
    "Your code for this section will all be written inside **classifiers/softmax.py**. \n"
   ]
  },
  {
   "cell_type": "code",
   "execution_count": 11,
   "metadata": {
    "scrolled": true
   },
   "outputs": [
    {
     "name": "stdout",
     "output_type": "stream",
     "text": [
      "loss: 2.317898\n",
      "sanity check: 2.302585\n"
     ]
    }
   ],
   "source": [
    "# First implement the naive softmax loss function with nested loops.\n",
    "# Open the file classifiers/softmax.py and implement the\n",
    "# softmax_loss_naive function.\n",
    "\n",
    "from classifiers.softmax import softmax_loss_naive\n",
    "import time\n",
    "\n",
    "# Generate a random softmax weight matrix and use it to compute the loss.\n",
    "W = np.random.randn(3073, 10) * 0.0001\n",
    "loss, grad = softmax_loss_naive(W, X_dev, y_dev, 0.0)\n",
    "\n",
    "# As a rough sanity check, our loss should be something close to -log(0.1).\n",
    "print('loss: %f' % loss)\n",
    "print('sanity check: %f' % (-np.log(0.1)))"
   ]
  },
  {
   "cell_type": "markdown",
   "metadata": {},
   "source": [
    "**Question:** Why do we expect our loss to be close to -log(0.1)? Explain briefly.**"
   ]
  },
  {
   "cell_type": "markdown",
   "metadata": {},
   "source": [
    "**Your answer:** Since the -log function is applied to only the ground-truth class and there are 10 classes with the probability of selecting the ground-truth class being 0.1, the loss for the random search with softmax classifier is as such."
   ]
  },
  {
   "cell_type": "markdown",
   "metadata": {},
   "source": [
    "# Optimization\n",
    "\n",
    "\n",
    "## Random search"
   ]
  },
  {
   "cell_type": "code",
   "execution_count": 12,
   "metadata": {},
   "outputs": [
    {
     "name": "stdout",
     "output_type": "stream",
     "text": [
      "in attempt 0 the loss was 2.312269, best 2.312269\n",
      "in attempt 1 the loss was 2.324325, best 2.312269\n",
      "in attempt 2 the loss was 2.405454, best 2.312269\n",
      "in attempt 3 the loss was 2.367032, best 2.312269\n",
      "in attempt 4 the loss was 2.302147, best 2.302147\n",
      "in attempt 5 the loss was 2.345217, best 2.302147\n",
      "in attempt 6 the loss was 2.333472, best 2.302147\n",
      "in attempt 7 the loss was 2.340732, best 2.302147\n",
      "in attempt 8 the loss was 2.295507, best 2.295507\n",
      "in attempt 9 the loss was 2.320503, best 2.295507\n",
      "in attempt 10 the loss was 2.409482, best 2.295507\n",
      "in attempt 11 the loss was 2.348726, best 2.295507\n",
      "in attempt 12 the loss was 2.298004, best 2.295507\n",
      "in attempt 13 the loss was 2.317577, best 2.295507\n",
      "in attempt 14 the loss was 2.355992, best 2.295507\n",
      "in attempt 15 the loss was 2.354000, best 2.295507\n",
      "in attempt 16 the loss was 2.302127, best 2.295507\n",
      "in attempt 17 the loss was 2.375547, best 2.295507\n",
      "in attempt 18 the loss was 2.366346, best 2.295507\n",
      "in attempt 19 the loss was 2.305818, best 2.295507\n",
      "in attempt 20 the loss was 2.315131, best 2.295507\n",
      "in attempt 21 the loss was 2.334960, best 2.295507\n",
      "in attempt 22 the loss was 2.362026, best 2.295507\n",
      "in attempt 23 the loss was 2.274844, best 2.274844\n",
      "in attempt 24 the loss was 2.373139, best 2.274844\n",
      "in attempt 25 the loss was 2.409436, best 2.274844\n",
      "in attempt 26 the loss was 2.301637, best 2.274844\n",
      "in attempt 27 the loss was 2.371845, best 2.274844\n",
      "in attempt 28 the loss was 2.352373, best 2.274844\n",
      "in attempt 29 the loss was 2.352669, best 2.274844\n",
      "in attempt 30 the loss was 2.380865, best 2.274844\n",
      "in attempt 31 the loss was 2.302445, best 2.274844\n",
      "in attempt 32 the loss was 2.323622, best 2.274844\n",
      "in attempt 33 the loss was 2.343550, best 2.274844\n",
      "in attempt 34 the loss was 2.356667, best 2.274844\n",
      "in attempt 35 the loss was 2.378266, best 2.274844\n",
      "in attempt 36 the loss was 2.321333, best 2.274844\n",
      "in attempt 37 the loss was 2.287609, best 2.274844\n",
      "in attempt 38 the loss was 2.346785, best 2.274844\n",
      "in attempt 39 the loss was 2.355053, best 2.274844\n",
      "in attempt 40 the loss was 2.336105, best 2.274844\n",
      "in attempt 41 the loss was 2.324539, best 2.274844\n",
      "in attempt 42 the loss was 2.304507, best 2.274844\n",
      "in attempt 43 the loss was 2.332900, best 2.274844\n",
      "in attempt 44 the loss was 2.408317, best 2.274844\n",
      "in attempt 45 the loss was 2.427856, best 2.274844\n",
      "in attempt 46 the loss was 2.335570, best 2.274844\n",
      "in attempt 47 the loss was 2.355418, best 2.274844\n",
      "in attempt 48 the loss was 2.409165, best 2.274844\n",
      "in attempt 49 the loss was 2.380216, best 2.274844\n",
      "in attempt 50 the loss was 2.420935, best 2.274844\n",
      "in attempt 51 the loss was 2.322542, best 2.274844\n",
      "in attempt 52 the loss was 2.316998, best 2.274844\n",
      "in attempt 53 the loss was 2.328638, best 2.274844\n",
      "in attempt 54 the loss was 2.361423, best 2.274844\n",
      "in attempt 55 the loss was 2.337123, best 2.274844\n",
      "in attempt 56 the loss was 2.367414, best 2.274844\n",
      "in attempt 57 the loss was 2.408621, best 2.274844\n",
      "in attempt 58 the loss was 2.382958, best 2.274844\n",
      "in attempt 59 the loss was 2.376197, best 2.274844\n",
      "in attempt 60 the loss was 2.394167, best 2.274844\n",
      "in attempt 61 the loss was 2.345932, best 2.274844\n",
      "in attempt 62 the loss was 2.369284, best 2.274844\n",
      "in attempt 63 the loss was 2.313641, best 2.274844\n",
      "in attempt 64 the loss was 2.361444, best 2.274844\n",
      "in attempt 65 the loss was 2.398461, best 2.274844\n",
      "in attempt 66 the loss was 2.379033, best 2.274844\n",
      "in attempt 67 the loss was 2.323350, best 2.274844\n",
      "in attempt 68 the loss was 2.422342, best 2.274844\n",
      "in attempt 69 the loss was 2.363359, best 2.274844\n",
      "in attempt 70 the loss was 2.365567, best 2.274844\n",
      "in attempt 71 the loss was 2.314004, best 2.274844\n",
      "in attempt 72 the loss was 2.352952, best 2.274844\n",
      "in attempt 73 the loss was 2.372367, best 2.274844\n",
      "in attempt 74 the loss was 2.359915, best 2.274844\n",
      "in attempt 75 the loss was 2.408627, best 2.274844\n",
      "in attempt 76 the loss was 2.409426, best 2.274844\n",
      "in attempt 77 the loss was 2.400243, best 2.274844\n",
      "in attempt 78 the loss was 2.366241, best 2.274844\n",
      "in attempt 79 the loss was 2.413825, best 2.274844\n",
      "in attempt 80 the loss was 2.334502, best 2.274844\n",
      "in attempt 81 the loss was 2.341423, best 2.274844\n",
      "in attempt 82 the loss was 2.310837, best 2.274844\n",
      "in attempt 83 the loss was 2.419735, best 2.274844\n",
      "in attempt 84 the loss was 2.464141, best 2.274844\n",
      "in attempt 85 the loss was 2.340678, best 2.274844\n",
      "in attempt 86 the loss was 2.367619, best 2.274844\n",
      "in attempt 87 the loss was 2.386600, best 2.274844\n",
      "in attempt 88 the loss was 2.364489, best 2.274844\n",
      "in attempt 89 the loss was 2.374111, best 2.274844\n",
      "in attempt 90 the loss was 2.371241, best 2.274844\n",
      "in attempt 91 the loss was 2.350012, best 2.274844\n",
      "in attempt 92 the loss was 2.345778, best 2.274844\n",
      "in attempt 93 the loss was 2.335975, best 2.274844\n",
      "in attempt 94 the loss was 2.389510, best 2.274844\n",
      "in attempt 95 the loss was 2.353981, best 2.274844\n",
      "in attempt 96 the loss was 2.342732, best 2.274844\n",
      "in attempt 97 the loss was 2.371224, best 2.274844\n",
      "in attempt 98 the loss was 2.286648, best 2.274844\n",
      "in attempt 99 the loss was 2.368420, best 2.274844\n"
     ]
    }
   ],
   "source": [
    "bestloss = float('inf')\n",
    "for num in range(100):\n",
    "    W = np.random.randn(3073, 10) * 0.0001\n",
    "    loss, _ = softmax_loss_naive(W, X_dev, y_dev, 0.0)\n",
    "    if (loss < bestloss):\n",
    "        bestloss = loss\n",
    "        bestW = W\n",
    "    print('in attempt %d the loss was %f, best %f' % (num, loss, bestloss))"
   ]
  },
  {
   "cell_type": "code",
   "execution_count": 13,
   "metadata": {},
   "outputs": [
    {
     "name": "stdout",
     "output_type": "stream",
     "text": [
      "Accuracy on train set 0.145367\n",
      "Accuracy on test set 0.146000\n"
     ]
    }
   ],
   "source": [
    "# How bestW perform on trainset\n",
    "scores = X_train.dot(bestW)\n",
    "y_pred = np.argmax(scores, axis=1)\n",
    "print('Accuracy on train set %f' % np.mean(y_pred == y_train))\n",
    "\n",
    "# evaluate performance of test set\n",
    "scores = X_test.dot(bestW)\n",
    "y_pred = np.argmax(scores, axis=1)\n",
    "print('Accuracy on test set %f' % np.mean(y_pred == y_test))"
   ]
  },
  {
   "cell_type": "markdown",
   "metadata": {},
   "source": [
    "Compare the performance when using random search with *regression classifier* and *softmax classifier*. You can see how much useful the softmax classifier is."
   ]
  },
  {
   "cell_type": "markdown",
   "metadata": {},
   "source": [
    "## Stochastic Gradient descent\n",
    "Even though it is possible to achieve closed-form solution with softmax classifier, it would be more complicated. In fact, we could achieve very good results with gradient descent approach. Additionally, in case of very large dataset, it is impossible to load the whole dataset into the memory. Gradient descent can help to optimize the loss function in batch. \n",
    "\n",
    "$$\\mathbf{W}^{t+1}=\\mathbf{W}^{t}−\\alpha \\frac{\\partial\\mathcal{L(\\mathbf{x};\\mathbf{W}^{t})}}{\\partial\\mathbf{W}^{t}}$$\n",
    "\n",
    "Where $\\alpha$ is the learning rate, $\\mathcal{L}$ is a loss function, and $\\mathbf{x}$ is a batch of training dataset."
   ]
  },
  {
   "cell_type": "code",
   "execution_count": 14,
   "metadata": {},
   "outputs": [
    {
     "name": "stdout",
     "output_type": "stream",
     "text": [
      "numerical: 1.054114 analytic: 1.054114, relative error: 4.516359e-08\n",
      "numerical: 4.011081 analytic: 4.011081, relative error: 1.432935e-08\n",
      "numerical: -0.542704 analytic: -0.542704, relative error: 2.683317e-08\n",
      "numerical: 1.367051 analytic: 1.367051, relative error: 8.403521e-08\n",
      "numerical: 1.516110 analytic: 1.516110, relative error: 1.211908e-08\n",
      "numerical: 1.300300 analytic: 1.300300, relative error: 3.888187e-08\n",
      "numerical: 1.162446 analytic: 1.162446, relative error: 6.547664e-08\n",
      "numerical: 1.433111 analytic: 1.433111, relative error: 5.248426e-08\n",
      "numerical: 1.821171 analytic: 1.821171, relative error: 3.304519e-08\n",
      "numerical: 3.833949 analytic: 3.833949, relative error: 1.082143e-08\n",
      "numerical: -0.951021 analytic: -0.951021, relative error: 3.348488e-08\n",
      "numerical: 0.849163 analytic: 0.849163, relative error: 1.894397e-08\n",
      "numerical: 1.420316 analytic: 1.420316, relative error: 1.360126e-08\n",
      "numerical: -1.755416 analytic: -1.755416, relative error: 1.369748e-08\n",
      "numerical: 0.429588 analytic: 0.429588, relative error: 1.642641e-10\n",
      "numerical: -0.655170 analytic: -0.655171, relative error: 3.984241e-08\n",
      "numerical: -0.342348 analytic: -0.342348, relative error: 1.011423e-07\n",
      "numerical: -2.283059 analytic: -2.283059, relative error: 1.404950e-08\n",
      "numerical: 1.520085 analytic: 1.520085, relative error: 2.039106e-08\n",
      "numerical: -0.130600 analytic: -0.130601, relative error: 3.079069e-07\n"
     ]
    }
   ],
   "source": [
    "# Complete the implementation of softmax_loss_naive and implement a (naive)\n",
    "# version of the gradient that uses nested loops.\n",
    "loss, grad = softmax_loss_naive(W, X_dev, y_dev, 0.0)\n",
    "\n",
    "# Use numeric gradient checking as a debugging tool.\n",
    "# The numeric gradient should be close to the analytic gradient.\n",
    "from gradient_check import grad_check_sparse\n",
    "f = lambda w: softmax_loss_naive(w, X_dev, y_dev, 0.0)[0]\n",
    "grad_numerical = grad_check_sparse(f, W, grad, 10)\n",
    "\n",
    "# gradient check with regularization\n",
    "loss, grad = softmax_loss_naive(W, X_dev, y_dev, 1e2)\n",
    "f = lambda w: softmax_loss_naive(w, X_dev, y_dev, 1e2)[0]\n",
    "grad_numerical = grad_check_sparse(f, W, grad, 10)"
   ]
  },
  {
   "cell_type": "code",
   "execution_count": 15,
   "metadata": {},
   "outputs": [
    {
     "name": "stdout",
     "output_type": "stream",
     "text": [
      "naive loss: 2.368420e+00 computed in 0.482911s\n",
      "vectorized loss: 2.368420e+00 computed in 0.002367s\n",
      "Loss difference: 0.000000\n",
      "Gradient difference: 0.000000\n"
     ]
    }
   ],
   "source": [
    "# Now that we have a naive implementation of the softmax loss function and its gradient,\n",
    "# implement a vectorized version in softmax_loss_vectorized.\n",
    "# The two versions should compute the same results, but the vectorized version should be\n",
    "# much faster.\n",
    "tic = time.time()\n",
    "loss_naive, grad_naive = softmax_loss_naive(W, X_dev, y_dev, 0.00001)\n",
    "toc = time.time()\n",
    "print('naive loss: %e computed in %fs' % (loss_naive, toc - tic))\n",
    "\n",
    "from classifiers.softmax import softmax_loss_vectorized\n",
    "tic = time.time()\n",
    "loss_vectorized, grad_vectorized = softmax_loss_vectorized(W, X_dev, y_dev, 0.00001)\n",
    "toc = time.time()\n",
    "print('vectorized loss: %e computed in %fs' % (loss_vectorized, toc - tic))\n",
    "\n",
    "# We use the Frobenius norm to compare the two versions\n",
    "# of the gradient.\n",
    "grad_difference = np.linalg.norm(grad_naive - grad_vectorized, ord='fro')\n",
    "print('Loss difference: %f' % np.abs(loss_naive - loss_vectorized))\n",
    "print('Gradient difference: %f' % grad_difference)"
   ]
  },
  {
   "cell_type": "code",
   "execution_count": 16,
   "metadata": {},
   "outputs": [
    {
     "name": "stdout",
     "output_type": "stream",
     "text": [
      "iteration 0 / 1500: loss 1523.885218\n",
      "iteration 100 / 1500: loss 205.228017\n",
      "iteration 200 / 1500: loss 29.177221\n",
      "iteration 300 / 1500: loss 5.769311\n",
      "iteration 400 / 1500: loss 2.647825\n",
      "iteration 500 / 1500: loss 2.257026\n",
      "iteration 600 / 1500: loss 2.165870\n",
      "iteration 700 / 1500: loss 2.128582\n",
      "iteration 800 / 1500: loss 2.101383\n",
      "iteration 900 / 1500: loss 2.186013\n",
      "iteration 1000 / 1500: loss 2.173119\n",
      "iteration 1100 / 1500: loss 2.115959\n",
      "iteration 1200 / 1500: loss 2.169719\n",
      "iteration 1300 / 1500: loss 2.104463\n",
      "iteration 1400 / 1500: loss 2.162859\n",
      "That took 3.496285s\n"
     ]
    }
   ],
   "source": [
    "from classifiers.linear_classifier import *\n",
    "\n",
    "classifier = Softmax()\n",
    "tic = time.time()\n",
    "loss_hist = classifier.train(X_train, y_train, learning_rate=1e-7, reg=5e4,\n",
    "                                  num_iters=1500, verbose=True)\n",
    "toc = time.time()\n",
    "print('That took %fs' % (toc - tic))"
   ]
  },
  {
   "cell_type": "code",
   "execution_count": 17,
   "metadata": {},
   "outputs": [
    {
     "name": "stdout",
     "output_type": "stream",
     "text": [
      "training accuracy: 0.307633\n",
      "validation accuracy: 0.320000\n"
     ]
    }
   ],
   "source": [
    "# Write the Softmax.predict function and evaluate the performance on both the\n",
    "# training and validation set\n",
    "y_train_pred = classifier.predict(X_train)\n",
    "print('training accuracy: %f' % (np.mean(y_train == y_train_pred), ))\n",
    "y_val_pred = classifier.predict(X_val)\n",
    "print('validation accuracy: %f' % (np.mean(y_val == y_val_pred), ))"
   ]
  },
  {
   "cell_type": "code",
   "execution_count": 18,
   "metadata": {},
   "outputs": [
    {
     "data": {
      "image/png": "[encoded data removed]",
      "text/plain": [
       "<Figure size 720x576 with 1 Axes>"
      ]
     },
     "metadata": {
      "needs_background": "light"
     },
     "output_type": "display_data"
    }
   ],
   "source": [
    "# A useful debugging strategy is to plot the loss as a function of\n",
    "# iteration number:\n",
    "plt.plot(loss_hist)\n",
    "plt.xlabel('Iteration number')\n",
    "plt.ylabel('Loss value')\n",
    "plt.show()"
   ]
  },
  {
   "cell_type": "code",
   "execution_count": 19,
   "metadata": {},
   "outputs": [
    {
     "name": "stdout",
     "output_type": "stream",
     "text": [
      "softmax on raw pixels final test set accuracy: 32.60\n"
     ]
    }
   ],
   "source": [
    "# evaluate on test set\n",
    "# Evaluate the best softmax on test set\n",
    "y_test_pred = classifier.predict(X_test)\n",
    "test_accuracy = np.mean(y_test == y_test_pred)\n",
    "print('softmax on raw pixels final test set accuracy: %.2f' % (100*test_accuracy, ))"
   ]
  }
 ],
 "metadata": {
  "anaconda-cloud": {},
  "kernelspec": {
   "display_name": "Python 3",
   "language": "python",
   "name": "python3"
  },
  "language_info": {
   "codemirror_mode": {
    "name": "ipython",
    "version": 3
   },
   "file_extension": ".py",
   "mimetype": "text/x-python",
   "name": "python",
   "nbconvert_exporter": "python",
   "pygments_lexer": "ipython3",
   "version": "3.6.12"
  }
 },
 "nbformat": 4,
 "nbformat_minor": 1
}
